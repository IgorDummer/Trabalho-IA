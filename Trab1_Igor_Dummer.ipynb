{
 "cells": [
  {
   "attachments": {},
   "cell_type": "markdown",
   "id": "1e0b6afa",
   "metadata": {},
   "source": [
    "# Configurações"
   ]
  },
  {
   "cell_type": "code",
   "execution_count": 2,
   "id": "aaf382ac",
   "metadata": {},
   "outputs": [],
   "source": [
    "import numpy as np\n",
    "import pandas as pd\n",
    "from scipy import stats\n",
    "from sklearn import datasets\n",
    "from sklearn.model_selection import cross_val_score, RepeatedStratifiedKFold\n",
    "from sklearn.metrics import confusion_matrix\n",
    "import matplotlib.pyplot as plt"
   ]
  },
  {
   "cell_type": "code",
   "execution_count": 3,
   "id": "89f474f2",
   "metadata": {},
   "outputs": [],
   "source": [
    "n_splits = 10\n",
    "n_repeats = 3\n",
    "n_estimators = [3,9,15,21]\n",
    "\n",
    "rkf = RepeatedStratifiedKFold(n_splits = n_splits, n_repeats = n_repeats, random_state = 36851234)"
   ]
  },
  {
   "attachments": {},
   "cell_type": "markdown",
   "id": "2b4f5cfe",
   "metadata": {},
   "source": [
    "### Load dataset"
   ]
  },
  {
   "cell_type": "code",
   "execution_count": 4,
   "id": "9ca0a351",
   "metadata": {},
   "outputs": [],
   "source": [
    "df = pd.read_csv('https://raw.githubusercontent.com/VitorBonella/PL-Dataset/main/dataset.csv',sep=\";\") #Leitura dos dados para o pandas"
   ]
  },
  {
   "attachments": {},
   "cell_type": "markdown",
   "id": "e01805be",
   "metadata": {},
   "source": [
    "Como minha matrícula é terminada em 9, utilizarei 7 descritores de Hu e 6 descritores de Haralick."
   ]
  },
  {
   "cell_type": "code",
   "execution_count": 5,
   "id": "05bd24e7",
   "metadata": {
    "scrolled": true
   },
   "outputs": [
    {
     "data": {
      "text/html": [
       "<div>\n",
       "<style scoped>\n",
       "    .dataframe tbody tr th:only-of-type {\n",
       "        vertical-align: middle;\n",
       "    }\n",
       "\n",
       "    .dataframe tbody tr th {\n",
       "        vertical-align: top;\n",
       "    }\n",
       "\n",
       "    .dataframe thead th {\n",
       "        text-align: right;\n",
       "    }\n",
       "</style>\n",
       "<table border=\"1\" class=\"dataframe\">\n",
       "  <thead>\n",
       "    <tr style=\"text-align: right;\">\n",
       "      <th></th>\n",
       "      <th>df01</th>\n",
       "      <th>df02</th>\n",
       "      <th>df03</th>\n",
       "      <th>df04</th>\n",
       "      <th>df05</th>\n",
       "      <th>df06</th>\n",
       "      <th>df07</th>\n",
       "      <th>df08</th>\n",
       "      <th>df09</th>\n",
       "      <th>df10</th>\n",
       "      <th>...</th>\n",
       "      <th>i4</th>\n",
       "      <th>i5</th>\n",
       "      <th>i6</th>\n",
       "      <th>i7</th>\n",
       "      <th>probmax</th>\n",
       "      <th>energia</th>\n",
       "      <th>entropia</th>\n",
       "      <th>contraste</th>\n",
       "      <th>homogeneidade</th>\n",
       "      <th>correlacao</th>\n",
       "    </tr>\n",
       "  </thead>\n",
       "  <tbody>\n",
       "    <tr>\n",
       "      <th>0</th>\n",
       "      <td>0,0879606602603602</td>\n",
       "      <td>0,0540590780493764</td>\n",
       "      <td>0,0252096142058536</td>\n",
       "      <td>0,0274713661921584</td>\n",
       "      <td>0,0128341271697431</td>\n",
       "      <td>0,00837372424071006</td>\n",
       "      <td>0,00459165042660484</td>\n",
       "      <td>0,00516286747775679</td>\n",
       "      <td>0,00474694756923231</td>\n",
       "      <td>0,00307480942393677</td>\n",
       "      <td>...</td>\n",
       "      <td>5,71775104737315e-005</td>\n",
       "      <td>3,80815942436415e-009</td>\n",
       "      <td>-1,41733745231029e-006</td>\n",
       "      <td>3,15336969940052e-009</td>\n",
       "      <td>0,890374128851521</td>\n",
       "      <td>3,17034178175013</td>\n",
       "      <td>6,5716176171224</td>\n",
       "      <td>-30,7129899022437</td>\n",
       "      <td>3,76304934586401</td>\n",
       "      <td>0,00030352446061056</td>\n",
       "    </tr>\n",
       "    <tr>\n",
       "      <th>1</th>\n",
       "      <td>0,0183325142757933</td>\n",
       "      <td>0,0641922380636373</td>\n",
       "      <td>0,0213351158490625</td>\n",
       "      <td>0,028934652413586</td>\n",
       "      <td>0,012263060875406</td>\n",
       "      <td>0,0112299899510848</td>\n",
       "      <td>0,00356611493895844</td>\n",
       "      <td>0,00586153710536664</td>\n",
       "      <td>0,00374648636964241</td>\n",
       "      <td>0,00377850078446776</td>\n",
       "      <td>...</td>\n",
       "      <td>1,01157608366481e-008</td>\n",
       "      <td>-5,39593107944031e-015</td>\n",
       "      <td>-6,85966112547544e-011</td>\n",
       "      <td>3,90722879150443e-015</td>\n",
       "      <td>0,874335002692948</td>\n",
       "      <td>3,05605231787486</td>\n",
       "      <td>7,56143396285353</td>\n",
       "      <td>-37,1051952158663</td>\n",
       "      <td>3,72262223245045</td>\n",
       "      <td>0,000268692571829909</td>\n",
       "    </tr>\n",
       "  </tbody>\n",
       "</table>\n",
       "<p>2 rows × 23 columns</p>\n",
       "</div>"
      ],
      "text/plain": [
       "                 df01                df02                df03  \\\n",
       "0  0,0879606602603602  0,0540590780493764  0,0252096142058536   \n",
       "1  0,0183325142757933  0,0641922380636373  0,0213351158490625   \n",
       "\n",
       "                 df04                df05                 df06  \\\n",
       "0  0,0274713661921584  0,0128341271697431  0,00837372424071006   \n",
       "1   0,028934652413586   0,012263060875406   0,0112299899510848   \n",
       "\n",
       "                  df07                 df08                 df09  \\\n",
       "0  0,00459165042660484  0,00516286747775679  0,00474694756923231   \n",
       "1  0,00356611493895844  0,00586153710536664  0,00374648636964241   \n",
       "\n",
       "                  df10  ...                     i4                      i5  \\\n",
       "0  0,00307480942393677  ...  5,71775104737315e-005   3,80815942436415e-009   \n",
       "1  0,00377850078446776  ...  1,01157608366481e-008  -5,39593107944031e-015   \n",
       "\n",
       "                       i6                     i7            probmax  \\\n",
       "0  -1,41733745231029e-006  3,15336969940052e-009  0,890374128851521   \n",
       "1  -6,85966112547544e-011  3,90722879150443e-015  0,874335002692948   \n",
       "\n",
       "            energia          entropia          contraste     homogeneidade  \\\n",
       "0  3,17034178175013   6,5716176171224  -30,7129899022437  3,76304934586401   \n",
       "1  3,05605231787486  7,56143396285353  -37,1051952158663  3,72262223245045   \n",
       "\n",
       "             correlacao  \n",
       "0   0,00030352446061056  \n",
       "1  0,000268692571829909  \n",
       "\n",
       "[2 rows x 23 columns]"
      ]
     },
     "execution_count": 5,
     "metadata": {},
     "output_type": "execute_result"
    }
   ],
   "source": [
    "# Lista de Indices\n",
    "FOURIER = ['df01', 'df02', 'df03', 'df04','df05', 'df06', 'df07', 'df08', 'df09', 'df10']\n",
    "HU = ['i1', 'i2', 'i3', 'i4','i5', 'i6', 'i7']\n",
    "HARALICK = ['probmax', 'energia', 'entropia', 'contraste','homogeneidade', 'correlacao']\n",
    "ALL = FOURIER + HU + HARALICK\n",
    "\n",
    "df[ALL].head(2)"
   ]
  },
  {
   "cell_type": "code",
   "execution_count": 6,
   "id": "d128d06e",
   "metadata": {},
   "outputs": [],
   "source": [
    "df.set_index('id',inplace=True) #Transformando a coluna id no indice da tabela\n",
    "\n",
    "#Observem que a classe esta separada em duas colunas então devemos concatenadas para formar uma coluna só chamada classe\n",
    "df['classe'] = df['tipo_lampada'].str.replace(\" \", \"\") + df['potencia'].astype(str) "
   ]
  },
  {
   "cell_type": "code",
   "execution_count": 7,
   "id": "a93559a0",
   "metadata": {},
   "outputs": [
    {
     "data": {
      "text/plain": [
       "id\n",
       "355    metalica400\n",
       "356    metalica400\n",
       "357    metalica400\n",
       "358    metalica400\n",
       "359    metalica400\n",
       "          ...     \n",
       "656    metalica250\n",
       "657    metalica250\n",
       "658    metalica250\n",
       "659    metalica250\n",
       "660    metalica250\n",
       "Name: classe, Length: 297, dtype: object"
      ]
     },
     "execution_count": 7,
     "metadata": {},
     "output_type": "execute_result"
    }
   ],
   "source": [
    "df['classe']"
   ]
  },
  {
   "cell_type": "code",
   "execution_count": 8,
   "id": "73fdad3f",
   "metadata": {
    "scrolled": false
   },
   "outputs": [
    {
     "name": "stdout",
     "output_type": "stream",
     "text": [
      "[dtype('float64'), dtype('float64'), dtype('float64'), dtype('float64'), dtype('float64'), dtype('float64'), dtype('float64'), dtype('float64'), dtype('float64'), dtype('float64'), dtype('float64'), dtype('float64'), dtype('float64'), dtype('float64'), dtype('float64'), dtype('float64'), dtype('float64'), dtype('float64'), dtype('float64'), dtype('float64'), dtype('float64'), dtype('float64'), dtype('float64')]\n"
     ]
    },
    {
     "data": {
      "text/html": [
       "<div>\n",
       "<style scoped>\n",
       "    .dataframe tbody tr th:only-of-type {\n",
       "        vertical-align: middle;\n",
       "    }\n",
       "\n",
       "    .dataframe tbody tr th {\n",
       "        vertical-align: top;\n",
       "    }\n",
       "\n",
       "    .dataframe thead th {\n",
       "        text-align: right;\n",
       "    }\n",
       "</style>\n",
       "<table border=\"1\" class=\"dataframe\">\n",
       "  <thead>\n",
       "    <tr style=\"text-align: right;\">\n",
       "      <th></th>\n",
       "      <th>df01</th>\n",
       "      <th>df02</th>\n",
       "      <th>df03</th>\n",
       "      <th>df04</th>\n",
       "      <th>df05</th>\n",
       "      <th>df06</th>\n",
       "      <th>df07</th>\n",
       "      <th>df08</th>\n",
       "      <th>df09</th>\n",
       "      <th>df10</th>\n",
       "      <th>...</th>\n",
       "      <th>i4</th>\n",
       "      <th>i5</th>\n",
       "      <th>i6</th>\n",
       "      <th>i7</th>\n",
       "      <th>probmax</th>\n",
       "      <th>energia</th>\n",
       "      <th>entropia</th>\n",
       "      <th>contraste</th>\n",
       "      <th>homogeneidade</th>\n",
       "      <th>correlacao</th>\n",
       "    </tr>\n",
       "    <tr>\n",
       "      <th>id</th>\n",
       "      <th></th>\n",
       "      <th></th>\n",
       "      <th></th>\n",
       "      <th></th>\n",
       "      <th></th>\n",
       "      <th></th>\n",
       "      <th></th>\n",
       "      <th></th>\n",
       "      <th></th>\n",
       "      <th></th>\n",
       "      <th></th>\n",
       "      <th></th>\n",
       "      <th></th>\n",
       "      <th></th>\n",
       "      <th></th>\n",
       "      <th></th>\n",
       "      <th></th>\n",
       "      <th></th>\n",
       "      <th></th>\n",
       "      <th></th>\n",
       "      <th></th>\n",
       "    </tr>\n",
       "  </thead>\n",
       "  <tbody>\n",
       "    <tr>\n",
       "      <th>355</th>\n",
       "      <td>0.087961</td>\n",
       "      <td>0.054059</td>\n",
       "      <td>0.025210</td>\n",
       "      <td>0.027471</td>\n",
       "      <td>0.012834</td>\n",
       "      <td>0.008374</td>\n",
       "      <td>0.004592</td>\n",
       "      <td>0.005163</td>\n",
       "      <td>0.004747</td>\n",
       "      <td>0.003075</td>\n",
       "      <td>...</td>\n",
       "      <td>5.717751e-05</td>\n",
       "      <td>3.808159e-09</td>\n",
       "      <td>-1.417337e-06</td>\n",
       "      <td>3.153370e-09</td>\n",
       "      <td>0.890374</td>\n",
       "      <td>3.170342</td>\n",
       "      <td>6.571618</td>\n",
       "      <td>-30.712990</td>\n",
       "      <td>3.763049</td>\n",
       "      <td>0.000304</td>\n",
       "    </tr>\n",
       "    <tr>\n",
       "      <th>356</th>\n",
       "      <td>0.018333</td>\n",
       "      <td>0.064192</td>\n",
       "      <td>0.021335</td>\n",
       "      <td>0.028935</td>\n",
       "      <td>0.012263</td>\n",
       "      <td>0.011230</td>\n",
       "      <td>0.003566</td>\n",
       "      <td>0.005862</td>\n",
       "      <td>0.003746</td>\n",
       "      <td>0.003779</td>\n",
       "      <td>...</td>\n",
       "      <td>1.011576e-08</td>\n",
       "      <td>-5.395931e-15</td>\n",
       "      <td>-6.859661e-11</td>\n",
       "      <td>3.907229e-15</td>\n",
       "      <td>0.874335</td>\n",
       "      <td>3.056052</td>\n",
       "      <td>7.561434</td>\n",
       "      <td>-37.105195</td>\n",
       "      <td>3.722622</td>\n",
       "      <td>0.000269</td>\n",
       "    </tr>\n",
       "  </tbody>\n",
       "</table>\n",
       "<p>2 rows × 23 columns</p>\n",
       "</div>"
      ],
      "text/plain": [
       "         df01      df02      df03      df04      df05      df06      df07  \\\n",
       "id                                                                          \n",
       "355  0.087961  0.054059  0.025210  0.027471  0.012834  0.008374  0.004592   \n",
       "356  0.018333  0.064192  0.021335  0.028935  0.012263  0.011230  0.003566   \n",
       "\n",
       "         df08      df09      df10  ...            i4            i5  \\\n",
       "id                                 ...                               \n",
       "355  0.005163  0.004747  0.003075  ...  5.717751e-05  3.808159e-09   \n",
       "356  0.005862  0.003746  0.003779  ...  1.011576e-08 -5.395931e-15   \n",
       "\n",
       "               i6            i7   probmax   energia  entropia  contraste  \\\n",
       "id                                                                         \n",
       "355 -1.417337e-06  3.153370e-09  0.890374  3.170342  6.571618 -30.712990   \n",
       "356 -6.859661e-11  3.907229e-15  0.874335  3.056052  7.561434 -37.105195   \n",
       "\n",
       "     homogeneidade  correlacao  \n",
       "id                              \n",
       "355       3.763049    0.000304  \n",
       "356       3.722622    0.000269  \n",
       "\n",
       "[2 rows x 23 columns]"
      ]
     },
     "execution_count": 8,
     "metadata": {},
     "output_type": "execute_result"
    }
   ],
   "source": [
    "'''\n",
    "Os dados dos descritores como podemos observar na tabela acima estão com \",\"\n",
    "porém o padrão para ponto flutuante (float) em python é \".\" logo a biblioteca \n",
    "entendeu que se tratavam de strings (objects para o pandas) e não de floats \n",
    "assim é importante transformar esses dados para float.\n",
    "'''\n",
    "df[ALL] = df[ALL].apply(lambda x: x.str.replace(',', '.').astype(float), axis=1)\n",
    "print(list(df[ALL].dtypes))\n",
    "df[ALL].head(2)"
   ]
  },
  {
   "cell_type": "code",
   "execution_count": 9,
   "id": "279c84ae",
   "metadata": {},
   "outputs": [],
   "source": [
    "from sklearn.preprocessing import StandardScaler\n",
    "\n",
    "# dts_x = df[ALL]\n",
    "dts_y = df['classe']\n",
    " \n",
    "# Aplicando a normalização ao conjundo de dados\n",
    "dts_x = StandardScaler().fit_transform(df[ALL])"
   ]
  },
  {
   "attachments": {},
   "cell_type": "markdown",
   "id": "56f6cd8f",
   "metadata": {},
   "source": [
    "### ZERO R"
   ]
  },
  {
   "cell_type": "code",
   "execution_count": 10,
   "id": "f69bd690",
   "metadata": {},
   "outputs": [],
   "source": [
    "def classification_report(scores):\n",
    "    from scipy import stats\n",
    "    import numpy as np\n",
    "    print(f'Media: {scores.mean():.2f}, Desvio Padrao: {scores.std():.2f}')\n",
    "    inf, sup = stats.norm.interval(0.95, loc=scores.mean(), \n",
    "                               scale=scores.std()/np.sqrt(len(scores)))\n",
    "    print(f'Intervalo de confiança (95%): [{inf:.2f},{sup:.2f}]')"
   ]
  },
  {
   "cell_type": "code",
   "execution_count": 11,
   "id": "e54edf97",
   "metadata": {},
   "outputs": [
    {
     "name": "stdout",
     "output_type": "stream",
     "text": [
      "Media: 0.17, Desvio Padrao: 0.01\n",
      "Intervalo de confiança (95%): [0.16,0.17]\n"
     ]
    }
   ],
   "source": [
    "from sklearn.dummy import DummyClassifier\n",
    "\n",
    "zR = DummyClassifier()\n",
    "\n",
    "scores1 = cross_val_score(zR, dts_x, dts_y, cv = rkf)\n",
    "\n",
    "classification_report(scores1)"
   ]
  },
  {
   "attachments": {},
   "cell_type": "markdown",
   "id": "027a4b5e",
   "metadata": {},
   "source": [
    "### Bagging"
   ]
  },
  {
   "cell_type": "code",
   "execution_count": 13,
   "id": "e65be869",
   "metadata": {},
   "outputs": [
    {
     "name": "stdout",
     "output_type": "stream",
     "text": [
      "Media: 0.64, Desvio Padrao: 0.07\n",
      "Intervalo de confiança (95%): [0.61,0.66]\n"
     ]
    }
   ],
   "source": [
    "from sklearn.ensemble import BaggingClassifier\n",
    "from sklearn.naive_bayes import GaussianNB\n",
    "from sklearn.model_selection import GridSearchCV\n",
    "from sklearn.pipeline import Pipeline\n",
    "\n",
    "parameters = {'bagging__n_estimators':n_estimators}\n",
    "\n",
    "bg = BaggingClassifier(random_state=11)\n",
    "\n",
    "pipe = Pipeline([('scaler', StandardScaler()), ('bagging', bg)])\n",
    "\n",
    "clf = GridSearchCV(pipe, parameters, cv=4)\n",
    "\n",
    "scores2 = cross_val_score(clf, dts_x, dts_y, cv = rkf)\n",
    "\n",
    "classification_report(scores2)"
   ]
  },
  {
   "attachments": {},
   "cell_type": "markdown",
   "id": "70389146",
   "metadata": {},
   "source": [
    "### AdaBoost"
   ]
  },
  {
   "cell_type": "code",
   "execution_count": 14,
   "id": "2e94ac23",
   "metadata": {
    "scrolled": true
   },
   "outputs": [
    {
     "name": "stdout",
     "output_type": "stream",
     "text": [
      "Media: 0.34, Desvio Padrao: 0.03\n",
      "Intervalo de confiança (95%): [0.33,0.35]\n"
     ]
    }
   ],
   "source": [
    "from sklearn.ensemble import AdaBoostClassifier\n",
    "\n",
    "parameters = {'boosting__n_estimators':n_estimators}\n",
    "\n",
    "adb = AdaBoostClassifier(random_state=11)\n",
    "\n",
    "pipe = Pipeline([('scaler', StandardScaler()), ('boosting',adb)])\n",
    "\n",
    "clf = GridSearchCV(pipe, parameters,cv=4)\n",
    "\n",
    "scores3 = cross_val_score(clf, dts_x, dts_y, cv = rkf)\n",
    "\n",
    "classification_report(scores3)"
   ]
  },
  {
   "attachments": {},
   "cell_type": "markdown",
   "id": "ca3aa9dc",
   "metadata": {},
   "source": [
    "### RandomForest"
   ]
  },
  {
   "cell_type": "code",
   "execution_count": 15,
   "id": "b216c2b0",
   "metadata": {},
   "outputs": [
    {
     "name": "stdout",
     "output_type": "stream",
     "text": [
      "Media: 0.62, Desvio Padrao: 0.07\n",
      "Intervalo de confiança (95%): [0.60,0.65]\n"
     ]
    }
   ],
   "source": [
    "from sklearn.ensemble import RandomForestClassifier\n",
    "from sklearn.preprocessing import StandardScaler\n",
    "\n",
    "parameters = {'randomforest__n_estimators':n_estimators}\n",
    "\n",
    "rF = RandomForestClassifier(random_state=11)\n",
    "\n",
    "pipeline = Pipeline([('scaler', StandardScaler()), ('randomforest', rF)])\n",
    "\n",
    "gs = GridSearchCV(pipeline, parameters, cv=4)\n",
    "\n",
    "scores3 = cross_val_score(gs, dts_x, dts_y, cv=rkf)\n",
    "\n",
    "classification_report(scores3)"
   ]
  }
 ],
 "metadata": {
  "kernelspec": {
   "display_name": "Python 3 (ipykernel)",
   "language": "python",
   "name": "python3"
  },
  "language_info": {
   "codemirror_mode": {
    "name": "ipython",
    "version": 3
   },
   "file_extension": ".py",
   "mimetype": "text/x-python",
   "name": "python",
   "nbconvert_exporter": "python",
   "pygments_lexer": "ipython3",
   "version": "3.11.3"
  }
 },
 "nbformat": 4,
 "nbformat_minor": 5
}
