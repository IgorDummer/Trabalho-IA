{
 "cells": [
  {
   "cell_type": "markdown",
   "id": "1e0b6afa",
   "metadata": {},
   "source": [
    "# Configurações"
   ]
  },
  {
   "cell_type": "code",
   "execution_count": 1,
   "id": "aaf382ac",
   "metadata": {},
   "outputs": [],
   "source": [
    "import numpy as np\n",
    "import pandas as pd\n",
    "from scipy import stats\n",
    "from sklearn import datasets\n",
    "from sklearn.model_selection import cross_val_score, RepeatedStratifiedKFold\n",
    "from sklearn.metrics import confusion_matrix\n",
    "import matplotlib.pyplot as plt"
   ]
  },
  {
   "cell_type": "code",
   "execution_count": 2,
   "id": "89f474f2",
   "metadata": {},
   "outputs": [],
   "source": [
    "n_splits = 10\n",
    "n_repeats = 3\n",
    "n_estimators = [3,9,15,21]"
   ]
  },
  {
   "cell_type": "markdown",
   "id": "2b4f5cfe",
   "metadata": {},
   "source": [
    "### Load dataset"
   ]
  },
  {
   "cell_type": "code",
   "execution_count": 3,
   "id": "9ca0a351",
   "metadata": {},
   "outputs": [],
   "source": [
    "df = pd.read_csv('https://raw.githubusercontent.com/VitorBonella/PL-Dataset/main/dataset.csv',sep=\";\") #Leitura dos dados para o pandas"
   ]
  },
  {
   "cell_type": "markdown",
   "id": "e01805be",
   "metadata": {},
   "source": [
    "Como minha matrícula é terminada em 9, utilizarei 7 descritores de Hu e 6 descritores de Haralick."
   ]
  },
  {
   "cell_type": "code",
   "execution_count": 4,
   "id": "05bd24e7",
   "metadata": {
    "scrolled": true
   },
   "outputs": [
    {
     "data": {
      "text/html": [
       "<div>\n",
       "<style scoped>\n",
       "    .dataframe tbody tr th:only-of-type {\n",
       "        vertical-align: middle;\n",
       "    }\n",
       "\n",
       "    .dataframe tbody tr th {\n",
       "        vertical-align: top;\n",
       "    }\n",
       "\n",
       "    .dataframe thead th {\n",
       "        text-align: right;\n",
       "    }\n",
       "</style>\n",
       "<table border=\"1\" class=\"dataframe\">\n",
       "  <thead>\n",
       "    <tr style=\"text-align: right;\">\n",
       "      <th></th>\n",
       "      <th>df01</th>\n",
       "      <th>df02</th>\n",
       "      <th>df03</th>\n",
       "      <th>df04</th>\n",
       "      <th>df05</th>\n",
       "      <th>df06</th>\n",
       "      <th>df07</th>\n",
       "      <th>df08</th>\n",
       "      <th>df09</th>\n",
       "      <th>df10</th>\n",
       "      <th>...</th>\n",
       "      <th>i4</th>\n",
       "      <th>i5</th>\n",
       "      <th>i6</th>\n",
       "      <th>i7</th>\n",
       "      <th>probmax</th>\n",
       "      <th>energia</th>\n",
       "      <th>entropia</th>\n",
       "      <th>contraste</th>\n",
       "      <th>homogeneidade</th>\n",
       "      <th>correlacao</th>\n",
       "    </tr>\n",
       "  </thead>\n",
       "  <tbody>\n",
       "    <tr>\n",
       "      <th>0</th>\n",
       "      <td>0,0879606602603602</td>\n",
       "      <td>0,0540590780493764</td>\n",
       "      <td>0,0252096142058536</td>\n",
       "      <td>0,0274713661921584</td>\n",
       "      <td>0,0128341271697431</td>\n",
       "      <td>0,00837372424071006</td>\n",
       "      <td>0,00459165042660484</td>\n",
       "      <td>0,00516286747775679</td>\n",
       "      <td>0,00474694756923231</td>\n",
       "      <td>0,00307480942393677</td>\n",
       "      <td>...</td>\n",
       "      <td>5,71775104737315e-005</td>\n",
       "      <td>3,80815942436415e-009</td>\n",
       "      <td>-1,41733745231029e-006</td>\n",
       "      <td>3,15336969940052e-009</td>\n",
       "      <td>0,890374128851521</td>\n",
       "      <td>3,17034178175013</td>\n",
       "      <td>6,5716176171224</td>\n",
       "      <td>-30,7129899022437</td>\n",
       "      <td>3,76304934586401</td>\n",
       "      <td>0,00030352446061056</td>\n",
       "    </tr>\n",
       "    <tr>\n",
       "      <th>1</th>\n",
       "      <td>0,0183325142757933</td>\n",
       "      <td>0,0641922380636373</td>\n",
       "      <td>0,0213351158490625</td>\n",
       "      <td>0,028934652413586</td>\n",
       "      <td>0,012263060875406</td>\n",
       "      <td>0,0112299899510848</td>\n",
       "      <td>0,00356611493895844</td>\n",
       "      <td>0,00586153710536664</td>\n",
       "      <td>0,00374648636964241</td>\n",
       "      <td>0,00377850078446776</td>\n",
       "      <td>...</td>\n",
       "      <td>1,01157608366481e-008</td>\n",
       "      <td>-5,39593107944031e-015</td>\n",
       "      <td>-6,85966112547544e-011</td>\n",
       "      <td>3,90722879150443e-015</td>\n",
       "      <td>0,874335002692948</td>\n",
       "      <td>3,05605231787486</td>\n",
       "      <td>7,56143396285353</td>\n",
       "      <td>-37,1051952158663</td>\n",
       "      <td>3,72262223245045</td>\n",
       "      <td>0,000268692571829909</td>\n",
       "    </tr>\n",
       "  </tbody>\n",
       "</table>\n",
       "<p>2 rows × 23 columns</p>\n",
       "</div>"
      ],
      "text/plain": [
       "                 df01                df02                df03  \\\n",
       "0  0,0879606602603602  0,0540590780493764  0,0252096142058536   \n",
       "1  0,0183325142757933  0,0641922380636373  0,0213351158490625   \n",
       "\n",
       "                 df04                df05                 df06  \\\n",
       "0  0,0274713661921584  0,0128341271697431  0,00837372424071006   \n",
       "1   0,028934652413586   0,012263060875406   0,0112299899510848   \n",
       "\n",
       "                  df07                 df08                 df09  \\\n",
       "0  0,00459165042660484  0,00516286747775679  0,00474694756923231   \n",
       "1  0,00356611493895844  0,00586153710536664  0,00374648636964241   \n",
       "\n",
       "                  df10  ...                     i4                      i5  \\\n",
       "0  0,00307480942393677  ...  5,71775104737315e-005   3,80815942436415e-009   \n",
       "1  0,00377850078446776  ...  1,01157608366481e-008  -5,39593107944031e-015   \n",
       "\n",
       "                       i6                     i7            probmax  \\\n",
       "0  -1,41733745231029e-006  3,15336969940052e-009  0,890374128851521   \n",
       "1  -6,85966112547544e-011  3,90722879150443e-015  0,874335002692948   \n",
       "\n",
       "            energia          entropia          contraste     homogeneidade  \\\n",
       "0  3,17034178175013   6,5716176171224  -30,7129899022437  3,76304934586401   \n",
       "1  3,05605231787486  7,56143396285353  -37,1051952158663  3,72262223245045   \n",
       "\n",
       "             correlacao  \n",
       "0   0,00030352446061056  \n",
       "1  0,000268692571829909  \n",
       "\n",
       "[2 rows x 23 columns]"
      ]
     },
     "execution_count": 4,
     "metadata": {},
     "output_type": "execute_result"
    }
   ],
   "source": [
    "# Lista de Indices\n",
    "FOURIER = ['df01', 'df02', 'df03', 'df04','df05', 'df06', 'df07', 'df08', 'df09', 'df10']\n",
    "HU = ['i1', 'i2', 'i3', 'i4','i5', 'i6', 'i7']\n",
    "HARALICK = ['probmax', 'energia', 'entropia', 'contraste','homogeneidade', 'correlacao']\n",
    "ALL = FOURIER + HU + HARALICK\n",
    "\n",
    "df[ALL].head(2)"
   ]
  },
  {
   "cell_type": "code",
   "execution_count": 5,
   "id": "d128d06e",
   "metadata": {},
   "outputs": [],
   "source": [
    "df.set_index('id',inplace=True) #Transformando a coluna id no indice da tabela\n",
    "\n",
    "df[ALL] = df[ALL].apply(lambda x: x.str.replace(',', '.').astype(float), axis=1)\n",
    "\n",
    "#Observem que a classe esta separada em duas colunas então devemos concatenadas para formar uma coluna só chamada classe\n",
    "df['classe'] = df['tipo_lampada'].str.replace(\" \", \"\") + df['potencia'].astype(str) "
   ]
  },
  {
   "cell_type": "code",
   "execution_count": 6,
   "id": "a93559a0",
   "metadata": {},
   "outputs": [
    {
     "data": {
      "text/plain": [
       "id\n",
       "355    metalica400\n",
       "356    metalica400\n",
       "357    metalica400\n",
       "358    metalica400\n",
       "359    metalica400\n",
       "          ...     \n",
       "656    metalica250\n",
       "657    metalica250\n",
       "658    metalica250\n",
       "659    metalica250\n",
       "660    metalica250\n",
       "Name: classe, Length: 297, dtype: object"
      ]
     },
     "execution_count": 6,
     "metadata": {},
     "output_type": "execute_result"
    }
   ],
   "source": [
    "df['classe']"
   ]
  },
  {
   "cell_type": "code",
   "execution_count": 7,
   "id": "73fdad3f",
   "metadata": {
    "scrolled": false
   },
   "outputs": [
    {
     "data": {
      "text/html": [
       "<div>\n",
       "<style scoped>\n",
       "    .dataframe tbody tr th:only-of-type {\n",
       "        vertical-align: middle;\n",
       "    }\n",
       "\n",
       "    .dataframe tbody tr th {\n",
       "        vertical-align: top;\n",
       "    }\n",
       "\n",
       "    .dataframe thead th {\n",
       "        text-align: right;\n",
       "    }\n",
       "</style>\n",
       "<table border=\"1\" class=\"dataframe\">\n",
       "  <thead>\n",
       "    <tr style=\"text-align: right;\">\n",
       "      <th></th>\n",
       "      <th>df01</th>\n",
       "      <th>df02</th>\n",
       "      <th>df03</th>\n",
       "      <th>df04</th>\n",
       "      <th>df05</th>\n",
       "      <th>df06</th>\n",
       "      <th>df07</th>\n",
       "      <th>df08</th>\n",
       "      <th>df09</th>\n",
       "      <th>df10</th>\n",
       "      <th>...</th>\n",
       "      <th>i4</th>\n",
       "      <th>i5</th>\n",
       "      <th>i6</th>\n",
       "      <th>i7</th>\n",
       "      <th>probmax</th>\n",
       "      <th>energia</th>\n",
       "      <th>entropia</th>\n",
       "      <th>contraste</th>\n",
       "      <th>homogeneidade</th>\n",
       "      <th>correlacao</th>\n",
       "    </tr>\n",
       "    <tr>\n",
       "      <th>id</th>\n",
       "      <th></th>\n",
       "      <th></th>\n",
       "      <th></th>\n",
       "      <th></th>\n",
       "      <th></th>\n",
       "      <th></th>\n",
       "      <th></th>\n",
       "      <th></th>\n",
       "      <th></th>\n",
       "      <th></th>\n",
       "      <th></th>\n",
       "      <th></th>\n",
       "      <th></th>\n",
       "      <th></th>\n",
       "      <th></th>\n",
       "      <th></th>\n",
       "      <th></th>\n",
       "      <th></th>\n",
       "      <th></th>\n",
       "      <th></th>\n",
       "      <th></th>\n",
       "    </tr>\n",
       "  </thead>\n",
       "  <tbody>\n",
       "    <tr>\n",
       "      <th>355</th>\n",
       "      <td>0.087961</td>\n",
       "      <td>0.054059</td>\n",
       "      <td>0.025210</td>\n",
       "      <td>0.027471</td>\n",
       "      <td>0.012834</td>\n",
       "      <td>0.008374</td>\n",
       "      <td>0.004592</td>\n",
       "      <td>0.005163</td>\n",
       "      <td>0.004747</td>\n",
       "      <td>0.003075</td>\n",
       "      <td>...</td>\n",
       "      <td>5.717751e-05</td>\n",
       "      <td>3.808159e-09</td>\n",
       "      <td>-1.417337e-06</td>\n",
       "      <td>3.153370e-09</td>\n",
       "      <td>0.890374</td>\n",
       "      <td>3.170342</td>\n",
       "      <td>6.571618</td>\n",
       "      <td>-30.712990</td>\n",
       "      <td>3.763049</td>\n",
       "      <td>0.000304</td>\n",
       "    </tr>\n",
       "    <tr>\n",
       "      <th>356</th>\n",
       "      <td>0.018333</td>\n",
       "      <td>0.064192</td>\n",
       "      <td>0.021335</td>\n",
       "      <td>0.028935</td>\n",
       "      <td>0.012263</td>\n",
       "      <td>0.011230</td>\n",
       "      <td>0.003566</td>\n",
       "      <td>0.005862</td>\n",
       "      <td>0.003746</td>\n",
       "      <td>0.003779</td>\n",
       "      <td>...</td>\n",
       "      <td>1.011576e-08</td>\n",
       "      <td>-5.395931e-15</td>\n",
       "      <td>-6.859661e-11</td>\n",
       "      <td>3.907229e-15</td>\n",
       "      <td>0.874335</td>\n",
       "      <td>3.056052</td>\n",
       "      <td>7.561434</td>\n",
       "      <td>-37.105195</td>\n",
       "      <td>3.722622</td>\n",
       "      <td>0.000269</td>\n",
       "    </tr>\n",
       "  </tbody>\n",
       "</table>\n",
       "<p>2 rows × 23 columns</p>\n",
       "</div>"
      ],
      "text/plain": [
       "         df01      df02      df03      df04      df05      df06      df07  \\\n",
       "id                                                                          \n",
       "355  0.087961  0.054059  0.025210  0.027471  0.012834  0.008374  0.004592   \n",
       "356  0.018333  0.064192  0.021335  0.028935  0.012263  0.011230  0.003566   \n",
       "\n",
       "         df08      df09      df10  ...            i4            i5  \\\n",
       "id                                 ...                               \n",
       "355  0.005163  0.004747  0.003075  ...  5.717751e-05  3.808159e-09   \n",
       "356  0.005862  0.003746  0.003779  ...  1.011576e-08 -5.395931e-15   \n",
       "\n",
       "               i6            i7   probmax   energia  entropia  contraste  \\\n",
       "id                                                                         \n",
       "355 -1.417337e-06  3.153370e-09  0.890374  3.170342  6.571618 -30.712990   \n",
       "356 -6.859661e-11  3.907229e-15  0.874335  3.056052  7.561434 -37.105195   \n",
       "\n",
       "     homogeneidade  correlacao  \n",
       "id                              \n",
       "355       3.763049    0.000304  \n",
       "356       3.722622    0.000269  \n",
       "\n",
       "[2 rows x 23 columns]"
      ]
     },
     "execution_count": 7,
     "metadata": {},
     "output_type": "execute_result"
    }
   ],
   "source": [
    "df[ALL].head(2)"
   ]
  },
  {
   "cell_type": "code",
   "execution_count": 8,
   "id": "279c84ae",
   "metadata": {},
   "outputs": [],
   "source": [
    "from sklearn.preprocessing import StandardScaler\n",
    "\n",
    "\n",
    "X = df[ALL]\n",
    "y = df['classe']\n"
   ]
  },
  {
   "cell_type": "code",
   "execution_count": 9,
   "id": "e16e6c20",
   "metadata": {},
   "outputs": [],
   "source": [
    "def classification_report(scores):\n",
    "    print(f'Media: {scores.mean():.8f}, Desvio Padrao: {scores.std():.8f}')\n",
    "    inf, sup = stats.norm.interval(0.95, loc=scores.mean(), \n",
    "                               scale=scores.std()/np.sqrt(len(scores)))\n",
    "    print(f'Intervalo de confiança (95%): [{inf:.8f},{sup:.8f}]')"
   ]
  },
  {
   "cell_type": "markdown",
   "id": "56f6cd8f",
   "metadata": {},
   "source": [
    "## ZeroR"
   ]
  },
  {
   "cell_type": "code",
   "execution_count": 10,
   "id": "a415f3f8",
   "metadata": {},
   "outputs": [
    {
     "name": "stdout",
     "output_type": "stream",
     "text": [
      "Media: 0.16505747, Desvio Padrao: 0.01088258\n",
      "Intervalo de confiança (95%): [0.16116326,0.16895168]\n"
     ]
    }
   ],
   "source": [
    "from sklearn.dummy import DummyClassifier\n",
    "\n",
    "zR = DummyClassifier()\n",
    "\n",
    "rkf = RepeatedStratifiedKFold(n_splits = n_splits, n_repeats = n_repeats, random_state = 36851234)\n",
    "\n",
    "scoresZR = cross_val_score(zR, X, y, cv = rkf)\n",
    "\n",
    "classification_report(scoresZR)"
   ]
  },
  {
   "cell_type": "markdown",
   "id": "027a4b5e",
   "metadata": {},
   "source": [
    "### Bagging"
   ]
  },
  {
   "cell_type": "code",
   "execution_count": 11,
   "id": "e65be869",
   "metadata": {},
   "outputs": [
    {
     "name": "stdout",
     "output_type": "stream",
     "text": [
      "Media: 0.63563218, Desvio Padrao: 0.07451964\n",
      "Intervalo de confiança (95%): [0.60896616,0.66229821]\n"
     ]
    }
   ],
   "source": [
    "from sklearn.ensemble import BaggingClassifier\n",
    "from sklearn.naive_bayes import GaussianNB\n",
    "from sklearn.model_selection import GridSearchCV\n",
    "from sklearn.pipeline import Pipeline\n",
    "\n",
    "parameters = {'bagging__n_estimators':n_estimators}\n",
    "\n",
    "bg = BaggingClassifier(random_state=11)\n",
    "\n",
    "pipe = Pipeline([('scaler', StandardScaler()), ('bagging', bg)])\n",
    "\n",
    "clf = GridSearchCV(pipe, parameters, cv=4)\n",
    "\n",
    "rkf = RepeatedStratifiedKFold(n_splits = n_splits, n_repeats = n_repeats, random_state = 36851234)\n",
    "\n",
    "scoresBA = cross_val_score(clf, X, y, cv = rkf)\n",
    "\n",
    "classification_report(scoresBA)"
   ]
  },
  {
   "cell_type": "markdown",
   "id": "70389146",
   "metadata": {},
   "source": [
    "### AdaBoost"
   ]
  },
  {
   "cell_type": "code",
   "execution_count": 12,
   "id": "2e94ac23",
   "metadata": {
    "scrolled": true
   },
   "outputs": [
    {
     "name": "stdout",
     "output_type": "stream",
     "text": [
      "Media: 0.33904215, Desvio Padrao: 0.02916987\n",
      "Intervalo de confiança (95%): [0.32860403,0.34948026]\n"
     ]
    }
   ],
   "source": [
    "from sklearn.ensemble import AdaBoostClassifier\n",
    "\n",
    "parameters = {'boosting__n_estimators':n_estimators}\n",
    "\n",
    "adb = AdaBoostClassifier(random_state=11)\n",
    "\n",
    "pipe = Pipeline([('scaler', StandardScaler()), ('boosting',adb)])\n",
    "\n",
    "clf = GridSearchCV(pipe, parameters,cv=4)\n",
    "\n",
    "rkf = RepeatedStratifiedKFold(n_splits = n_splits, n_repeats = n_repeats, random_state = 36851234)\n",
    "\n",
    "scoresAB = cross_val_score(clf, X, y, cv = rkf)\n",
    "\n",
    "classification_report(scoresAB)"
   ]
  },
  {
   "cell_type": "markdown",
   "id": "ca3aa9dc",
   "metadata": {},
   "source": [
    "### Random Forest"
   ]
  },
  {
   "cell_type": "code",
   "execution_count": 13,
   "id": "b216c2b0",
   "metadata": {},
   "outputs": [
    {
     "name": "stdout",
     "output_type": "stream",
     "text": [
      "Media: 0.62314176, Desvio Padrao: 0.07457384\n",
      "Intervalo de confiança (95%): [0.59645635,0.64982718]\n"
     ]
    }
   ],
   "source": [
    "from sklearn.ensemble import RandomForestClassifier\n",
    "from sklearn.preprocessing import StandardScaler\n",
    "\n",
    "parameters = {'randomforest__n_estimators':n_estimators}\n",
    "\n",
    "rF = RandomForestClassifier(random_state=11)\n",
    "\n",
    "pipeline = Pipeline([('scaler', StandardScaler()), ('randomforest', rF)])\n",
    "\n",
    "gs = GridSearchCV(pipeline, parameters, cv=4)\n",
    "\n",
    "rkf = RepeatedStratifiedKFold(n_splits = n_splits, n_repeats = n_repeats, random_state = 36851234)\n",
    "\n",
    "scoresRF = cross_val_score(gs, X, y, cv=rkf)\n",
    "\n",
    "classification_report(scoresRF)"
   ]
  },
  {
   "cell_type": "markdown",
   "id": "d5521f80",
   "metadata": {},
   "source": [
    "### Heterogeneus Pooling"
   ]
  },
  {
   "cell_type": "code",
   "execution_count": 25,
   "id": "029bfc4a",
   "metadata": {
    "scrolled": true
   },
   "outputs": [],
   "source": [
    "#Heterogeneous Pooling\n",
    "from collections import Counter\n",
    "from sklearn.utils import resample\n",
    "from sklearn.naive_bayes import GaussianNB\n",
    "from sklearn.tree import DecisionTreeClassifier\n",
    "from sklearn.neighbors import KNeighborsClassifier\n",
    "from sklearn.base import BaseEstimator, ClassifierMixin\n",
    "\n",
    "\n",
    "class HeterogeneousPooling(BaseEstimator, ClassifierMixin):\n",
    "    def __init__(self, n_samples=1):\n",
    "        self.n_samples = n_samples\n",
    "        self.classifiers = []\n",
    "        self.base_classifiers = [DecisionTreeClassifier(),\n",
    "                                 GaussianNB(),\n",
    "                                 KNeighborsClassifier()]\n",
    "\n",
    "    def fit(self, X, y):\n",
    "        self.classes_ = sorted(set(y), key=lambda x: y.tolist().count(x), reverse=True)\n",
    "        \n",
    "        random_state = 0\n",
    "        for i in range(self.n_samples):\n",
    "            if i == 0:\n",
    "                # Treina a partir da original\n",
    "                X_train, y_train = X, y\n",
    "            else:\n",
    "                # Cria uma base de treino resample a partir da original\n",
    "                random_state += 1\n",
    "                X_train, y_train = resample(X, y, replace=True, random_state=random_state)\n",
    "\n",
    "             # Treina os classificadores base e os adiciona ao HeterogeneousPooling\n",
    "            for classifier in self.base_classifiers:\n",
    "                clf = classifier.fit(X_train, y_train)\n",
    "                self.classifiers.append(clf)\n",
    "\n",
    "    def predict(self, X):\n",
    "        #As previsões de cada classificador são adicionadas à lista predictions\n",
    "        predictions = []\n",
    "        #iteramos sobre cada classificador armazenado em self.classifiers e realizamos\n",
    "        #a previsão para o conjunto de dados de teste X\n",
    "        for classifier in self.classifiers:\n",
    "            predictions.append(classifier.predict(X))\n",
    "\n",
    "        #final_predictions para armazenar as previsões finais\n",
    "        final_predictions = []\n",
    "        for i in range(len(X)):\n",
    "            votes = [predictions[j][i] for j in range(len(self.classifiers))]\n",
    "            #contamos o número de votos para cada classe usando o Counter\n",
    "            vote_count = Counter(votes)\n",
    "            #Encontramos o valor máximo de votos com max_vote\n",
    "            max_vote = max(vote_count.values())\n",
    "\n",
    "            #buscamos a classe mais frequente entre as que receberam o número máximo de votos.\n",
    "            most_frequent_class = None\n",
    "            for cls, count in vote_count.items():\n",
    "                if count == max_vote:\n",
    "                    if most_frequent_class is None:\n",
    "                        most_frequent_class = cls\n",
    "                    elif self.classes_.index(cls) < self.classes_.index(most_frequent_class):\n",
    "                        most_frequent_class = cls\n",
    "            #adicionamos a classe mais votada most_frequent_class à lista final_predictions\n",
    "            #e continuamos iterando até processar todos os exemplos de teste.\n",
    "            final_predictions.append(most_frequent_class)\n",
    "\n",
    "        #Por fim, retornamos a lista final_predictions, que contém as previsões finais\n",
    "        #para o conjunto de dados de teste.\n",
    "        return final_predictions"
   ]
  },
  {
   "cell_type": "code",
   "execution_count": 26,
   "id": "8e80a154",
   "metadata": {},
   "outputs": [
    {
     "name": "stdout",
     "output_type": "stream",
     "text": [
      "Media: 0.58482759, Desvio Padrao: 0.10235024\n",
      "Intervalo de confiança (95%): [0.54820270,0.62145248]\n"
     ]
    },
    {
     "data": {
      "text/plain": [
       "array([0.63333333, 0.3       , 0.5       , 0.6       , 0.56666667,\n",
       "       0.53333333, 0.6       , 0.62068966, 0.51724138, 0.75862069,\n",
       "       0.53333333, 0.43333333, 0.56666667, 0.56666667, 0.53333333,\n",
       "       0.8       , 0.63333333, 0.5862069 , 0.62068966, 0.55172414,\n",
       "       0.66666667, 0.73333333, 0.56666667, 0.76666667, 0.63333333,\n",
       "       0.43333333, 0.6       , 0.48275862, 0.65517241, 0.55172414])"
      ]
     },
     "execution_count": 26,
     "metadata": {},
     "output_type": "execute_result"
    }
   ],
   "source": [
    "# Definição dos parâmetros para a busca em grade\n",
    "parameters = {'heterogeneous__n_samples': [1, 3, 5, 7]}\n",
    "\n",
    "# Instanciação do HeterogeneousPooling\n",
    "hp = HeterogeneousPooling()\n",
    "\n",
    "# Criação do pipeline com o HeterogeneousPooling e padronização\n",
    "pipe = Pipeline([('scaler', StandardScaler()), ('heterogeneous', hp)])\n",
    "\n",
    "# Instanciação do GridSearchCV com o pipeline e os parâmetros\n",
    "clf = GridSearchCV(pipe, parameters, cv=4)\n",
    "\n",
    "# Definição do esquema de validação cruzada estratificada\n",
    "rkf = RepeatedStratifiedKFold(n_splits=10, n_repeats=3, random_state=36851234)\n",
    "\n",
    "# Avaliação do modelo usando o cross_val_score\n",
    "HP_scores = cross_val_score(clf, X, y, cv=rkf)\n",
    "\n",
    "classification_report(HP_scores)\n",
    "HP_scores"
   ]
  },
  {
   "cell_type": "code",
   "execution_count": 44,
   "id": "7f14da6c",
   "metadata": {},
   "outputs": [],
   "source": [
    "from sklearn.base import BaseEstimator\n",
    "from sklearn.utils import resample\n",
    "from sklearn.tree import DecisionTreeClassifier\n",
    "from sklearn.naive_bayes import GaussianNB\n",
    "from sklearn.neighbors import KNeighborsClassifier\n",
    "from sklearn.ensemble import VotingClassifier\n",
    "from sklearn.utils import check_random_state\n",
    "from sklearn.pipeline import Pipeline\n",
    "from sklearn.model_selection import GridSearchCV, cross_val_score, RepeatedStratifiedKFold\n",
    "from sklearn.preprocessing import StandardScaler\n",
    "import numpy as np\n",
    "from collections import Counter\n",
    "\n",
    "\n",
    "class HeterogeneousPooling(BaseEstimator, ClassifierMixin):\n",
    "    def __init__(self, n_samples=1):\n",
    "        self.n_samples = n_samples\n",
    "        self.classifiers = []\n",
    "        \n",
    "    def fit(self, X, y):\n",
    "        self.classes_ = sorted(set(y), key=lambda x: y.tolist().count(x), reverse=True)\n",
    "        random_state = 0\n",
    "        \n",
    "        dt = DecisionTreeClassifier()\n",
    "        nb = GaussianNB()\n",
    "        knn = KNeighborsClassifier()\n",
    "        \n",
    "        for i in range(self.n_samples):\n",
    "            if i == 0:\n",
    "                X_train = X\n",
    "                y_train = y\n",
    "            else:\n",
    "                random_state += 1\n",
    "                X_train, y_train = resample(X, y, replace=True, random_state=random_state)\n",
    "\n",
    "            clf_dt = dt.fit(X_train, y_train)\n",
    "            clf_nb = nb.fit(X_train, y_train)\n",
    "            clf_knn = knn.fit(X_train, y_train)\n",
    "            \n",
    "            self.classifiers.append(clf_dt)\n",
    "            self.classifiers.append(clf_nb)\n",
    "            self.classifiers.append(clf_knn)\n",
    "\n",
    "    def predict(self, X):\n",
    "        predictions = [classifier.predict(X) for classifier in self.classifiers]\n",
    "\n",
    "        final_predictions = []\n",
    "        for i in range(len(X)):\n",
    "            votes = [prediction[i] for prediction in predictions]\n",
    "\n",
    "            vote_count = Counter(votes)\n",
    "            max_vote = max(vote_count.values())\n",
    "\n",
    "            most_frequent_class = None\n",
    "            for cls, count in vote_count.items():\n",
    "                if count == max_vote:\n",
    "                    if most_frequent_class is None:\n",
    "                        most_frequent_class = cls\n",
    "                    elif self.classes_.index(cls) < self.classes_.index(most_frequent_class):\n",
    "                        most_frequent_class = cls\n",
    "\n",
    "            final_predictions.append(most_frequent_class)\n",
    "\n",
    "        return final_predictions"
   ]
  },
  {
   "cell_type": "code",
   "execution_count": null,
   "id": "79588e0b",
   "metadata": {
    "scrolled": false
   },
   "outputs": [],
   "source": [
    "parameters = {'heterogeneous__n_samples': [1, 3, 5, 7]}\n",
    "\n",
    "hp = HeterogeneousPooling()\n",
    "\n",
    "pipe = Pipeline([('scaler', StandardScaler()), ('heterogeneous', hp)])\n",
    "\n",
    "clf = GridSearchCV(pipe, parameters, cv=4)\n",
    "\n",
    "rkf = RepeatedStratifiedKFold(n_splits=10, n_repeats=3, random_state=36851234)\n",
    "\n",
    "HP_scores = cross_val_score(clf, X, y, cv=rkf)\n",
    "classification_report(HP_scores)\n",
    "HP_scores"
   ]
  }
 ],
 "metadata": {
  "kernelspec": {
   "display_name": "Python 3 (ipykernel)",
   "language": "python",
   "name": "python3"
  },
  "language_info": {
   "codemirror_mode": {
    "name": "ipython",
    "version": 3
   },
   "file_extension": ".py",
   "mimetype": "text/x-python",
   "name": "python",
   "nbconvert_exporter": "python",
   "pygments_lexer": "ipython3",
   "version": "3.11.3"
  }
 },
 "nbformat": 4,
 "nbformat_minor": 5
}
