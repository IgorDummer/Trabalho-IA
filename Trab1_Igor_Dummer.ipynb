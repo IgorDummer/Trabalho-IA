{
 "cells": [
  {
   "cell_type": "markdown",
   "id": "1e0b6afa",
   "metadata": {},
   "source": [
    "# Configurações"
   ]
  },
  {
   "cell_type": "code",
   "execution_count": 1,
   "id": "aaf382ac",
   "metadata": {},
   "outputs": [],
   "source": [
    "import numpy as np\n",
    "import pandas as pd\n",
    "from scipy import stats\n",
    "from sklearn import datasets\n",
    "from sklearn.model_selection import cross_val_score, RepeatedStratifiedKFold, StratifiedKFold\n",
    "from sklearn.metrics import confusion_matrix\n",
    "import matplotlib.pyplot as plt"
   ]
  },
  {
   "cell_type": "code",
   "execution_count": 15,
   "id": "89f474f2",
   "metadata": {},
   "outputs": [],
   "source": [
    "n_splits = 10\n",
    "n_repeats = 3\n",
    "n_estimators = [4,9,15,21]\n",
    "\n",
    "rkf = RepeatedStratifiedKFold(n_splits = n_splits, n_repeats = n_repeats, random_state = 36851234)\n",
    "skf = StratifiedKFold(n_splits=4)"
   ]
  },
  {
   "cell_type": "markdown",
   "id": "2b4f5cfe",
   "metadata": {},
   "source": [
    "### Load dataset"
   ]
  },
  {
   "cell_type": "code",
   "execution_count": 3,
   "id": "9ca0a351",
   "metadata": {},
   "outputs": [],
   "source": [
    "df = pd.read_csv('https://raw.githubusercontent.com/VitorBonella/PL-Dataset/main/dataset.csv',sep=\";\") #Leitura dos dados para o pandas"
   ]
  },
  {
   "cell_type": "markdown",
   "id": "e01805be",
   "metadata": {},
   "source": [
    "Como minha matrícula é terminada em 9, utilizarei 7 descritores de Hu e 6 descritores de Haralick."
   ]
  },
  {
   "cell_type": "code",
   "execution_count": 4,
   "id": "05bd24e7",
   "metadata": {
    "scrolled": true
   },
   "outputs": [
    {
     "data": {
      "text/html": [
       "<div>\n",
       "<style scoped>\n",
       "    .dataframe tbody tr th:only-of-type {\n",
       "        vertical-align: middle;\n",
       "    }\n",
       "\n",
       "    .dataframe tbody tr th {\n",
       "        vertical-align: top;\n",
       "    }\n",
       "\n",
       "    .dataframe thead th {\n",
       "        text-align: right;\n",
       "    }\n",
       "</style>\n",
       "<table border=\"1\" class=\"dataframe\">\n",
       "  <thead>\n",
       "    <tr style=\"text-align: right;\">\n",
       "      <th></th>\n",
       "      <th>i1</th>\n",
       "      <th>i2</th>\n",
       "      <th>i3</th>\n",
       "      <th>i4</th>\n",
       "      <th>i5</th>\n",
       "      <th>i6</th>\n",
       "      <th>i7</th>\n",
       "      <th>probmax</th>\n",
       "      <th>energia</th>\n",
       "      <th>entropia</th>\n",
       "      <th>contraste</th>\n",
       "      <th>homogeneidade</th>\n",
       "      <th>correlacao</th>\n",
       "    </tr>\n",
       "  </thead>\n",
       "  <tbody>\n",
       "    <tr>\n",
       "      <th>0</th>\n",
       "      <td>0,168083620456198</td>\n",
       "      <td>0,000614508479637171</td>\n",
       "      <td>0,00013077624387807</td>\n",
       "      <td>5,71775104737315e-005</td>\n",
       "      <td>3,80815942436415e-009</td>\n",
       "      <td>-1,41733745231029e-006</td>\n",
       "      <td>3,15336969940052e-009</td>\n",
       "      <td>0,890374128851521</td>\n",
       "      <td>3,17034178175013</td>\n",
       "      <td>6,5716176171224</td>\n",
       "      <td>-30,7129899022437</td>\n",
       "      <td>3,76304934586401</td>\n",
       "      <td>0,00030352446061056</td>\n",
       "    </tr>\n",
       "    <tr>\n",
       "      <th>1</th>\n",
       "      <td>0,164506924542429</td>\n",
       "      <td>0,0010869024475826</td>\n",
       "      <td>4,2876190463528e-005</td>\n",
       "      <td>1,01157608366481e-008</td>\n",
       "      <td>-5,39593107944031e-015</td>\n",
       "      <td>-6,85966112547544e-011</td>\n",
       "      <td>3,90722879150443e-015</td>\n",
       "      <td>0,874335002692948</td>\n",
       "      <td>3,05605231787486</td>\n",
       "      <td>7,56143396285353</td>\n",
       "      <td>-37,1051952158663</td>\n",
       "      <td>3,72262223245045</td>\n",
       "      <td>0,000268692571829909</td>\n",
       "    </tr>\n",
       "  </tbody>\n",
       "</table>\n",
       "</div>"
      ],
      "text/plain": [
       "                  i1                    i2                    i3  \\\n",
       "0  0,168083620456198  0,000614508479637171   0,00013077624387807   \n",
       "1  0,164506924542429    0,0010869024475826  4,2876190463528e-005   \n",
       "\n",
       "                      i4                      i5                      i6  \\\n",
       "0  5,71775104737315e-005   3,80815942436415e-009  -1,41733745231029e-006   \n",
       "1  1,01157608366481e-008  -5,39593107944031e-015  -6,85966112547544e-011   \n",
       "\n",
       "                      i7            probmax           energia  \\\n",
       "0  3,15336969940052e-009  0,890374128851521  3,17034178175013   \n",
       "1  3,90722879150443e-015  0,874335002692948  3,05605231787486   \n",
       "\n",
       "           entropia          contraste     homogeneidade            correlacao  \n",
       "0   6,5716176171224  -30,7129899022437  3,76304934586401   0,00030352446061056  \n",
       "1  7,56143396285353  -37,1051952158663  3,72262223245045  0,000268692571829909  "
      ]
     },
     "execution_count": 4,
     "metadata": {},
     "output_type": "execute_result"
    }
   ],
   "source": [
    "# Lista de Indices\n",
    "# FOURIER = ['df01', 'df02', 'df03', 'df04','df05', 'df06', 'df07', 'df08', 'df09', 'df10']\n",
    "HU = ['i1', 'i2', 'i3', 'i4','i5', 'i6', 'i7']\n",
    "HARALICK = ['probmax', 'energia', 'entropia', 'contraste','homogeneidade', 'correlacao']\n",
    "ALL = HU + HARALICK\n",
    "\n",
    "df[ALL].head(2)"
   ]
  },
  {
   "cell_type": "code",
   "execution_count": 5,
   "id": "d128d06e",
   "metadata": {},
   "outputs": [],
   "source": [
    "df.set_index('id',inplace=True) #Transformando a coluna id no indice da tabela\n",
    "\n",
    "#Observem que a classe esta separada em duas colunas então devemos concatenadas para formar uma coluna só chamada classe\n",
    "df['classe'] = df['tipo_lampada'].str.replace(\" \", \"\") + df['potencia'].astype(str) "
   ]
  },
  {
   "cell_type": "code",
   "execution_count": 6,
   "id": "a93559a0",
   "metadata": {},
   "outputs": [
    {
     "data": {
      "text/plain": [
       "id\n",
       "355    metalica400\n",
       "356    metalica400\n",
       "357    metalica400\n",
       "358    metalica400\n",
       "359    metalica400\n",
       "          ...     \n",
       "656    metalica250\n",
       "657    metalica250\n",
       "658    metalica250\n",
       "659    metalica250\n",
       "660    metalica250\n",
       "Name: classe, Length: 297, dtype: object"
      ]
     },
     "execution_count": 6,
     "metadata": {},
     "output_type": "execute_result"
    }
   ],
   "source": [
    "df['classe']"
   ]
  },
  {
   "cell_type": "code",
   "execution_count": 7,
   "id": "73fdad3f",
   "metadata": {
    "scrolled": false
   },
   "outputs": [
    {
     "name": "stdout",
     "output_type": "stream",
     "text": [
      "[dtype('float64'), dtype('float64'), dtype('float64'), dtype('float64'), dtype('float64'), dtype('float64'), dtype('float64'), dtype('float64'), dtype('float64'), dtype('float64'), dtype('float64'), dtype('float64'), dtype('float64')]\n"
     ]
    },
    {
     "data": {
      "text/html": [
       "<div>\n",
       "<style scoped>\n",
       "    .dataframe tbody tr th:only-of-type {\n",
       "        vertical-align: middle;\n",
       "    }\n",
       "\n",
       "    .dataframe tbody tr th {\n",
       "        vertical-align: top;\n",
       "    }\n",
       "\n",
       "    .dataframe thead th {\n",
       "        text-align: right;\n",
       "    }\n",
       "</style>\n",
       "<table border=\"1\" class=\"dataframe\">\n",
       "  <thead>\n",
       "    <tr style=\"text-align: right;\">\n",
       "      <th></th>\n",
       "      <th>i1</th>\n",
       "      <th>i2</th>\n",
       "      <th>i3</th>\n",
       "      <th>i4</th>\n",
       "      <th>i5</th>\n",
       "      <th>i6</th>\n",
       "      <th>i7</th>\n",
       "      <th>probmax</th>\n",
       "      <th>energia</th>\n",
       "      <th>entropia</th>\n",
       "      <th>contraste</th>\n",
       "      <th>homogeneidade</th>\n",
       "      <th>correlacao</th>\n",
       "    </tr>\n",
       "    <tr>\n",
       "      <th>id</th>\n",
       "      <th></th>\n",
       "      <th></th>\n",
       "      <th></th>\n",
       "      <th></th>\n",
       "      <th></th>\n",
       "      <th></th>\n",
       "      <th></th>\n",
       "      <th></th>\n",
       "      <th></th>\n",
       "      <th></th>\n",
       "      <th></th>\n",
       "      <th></th>\n",
       "      <th></th>\n",
       "    </tr>\n",
       "  </thead>\n",
       "  <tbody>\n",
       "    <tr>\n",
       "      <th>355</th>\n",
       "      <td>0.168084</td>\n",
       "      <td>0.000615</td>\n",
       "      <td>0.000131</td>\n",
       "      <td>5.717751e-05</td>\n",
       "      <td>3.808159e-09</td>\n",
       "      <td>-1.417337e-06</td>\n",
       "      <td>3.153370e-09</td>\n",
       "      <td>0.890374</td>\n",
       "      <td>3.170342</td>\n",
       "      <td>6.571618</td>\n",
       "      <td>-30.712990</td>\n",
       "      <td>3.763049</td>\n",
       "      <td>0.000304</td>\n",
       "    </tr>\n",
       "    <tr>\n",
       "      <th>356</th>\n",
       "      <td>0.164507</td>\n",
       "      <td>0.001087</td>\n",
       "      <td>0.000043</td>\n",
       "      <td>1.011576e-08</td>\n",
       "      <td>-5.395931e-15</td>\n",
       "      <td>-6.859661e-11</td>\n",
       "      <td>3.907229e-15</td>\n",
       "      <td>0.874335</td>\n",
       "      <td>3.056052</td>\n",
       "      <td>7.561434</td>\n",
       "      <td>-37.105195</td>\n",
       "      <td>3.722622</td>\n",
       "      <td>0.000269</td>\n",
       "    </tr>\n",
       "  </tbody>\n",
       "</table>\n",
       "</div>"
      ],
      "text/plain": [
       "           i1        i2        i3            i4            i5            i6  \\\n",
       "id                                                                            \n",
       "355  0.168084  0.000615  0.000131  5.717751e-05  3.808159e-09 -1.417337e-06   \n",
       "356  0.164507  0.001087  0.000043  1.011576e-08 -5.395931e-15 -6.859661e-11   \n",
       "\n",
       "               i7   probmax   energia  entropia  contraste  homogeneidade  \\\n",
       "id                                                                          \n",
       "355  3.153370e-09  0.890374  3.170342  6.571618 -30.712990       3.763049   \n",
       "356  3.907229e-15  0.874335  3.056052  7.561434 -37.105195       3.722622   \n",
       "\n",
       "     correlacao  \n",
       "id               \n",
       "355    0.000304  \n",
       "356    0.000269  "
      ]
     },
     "execution_count": 7,
     "metadata": {},
     "output_type": "execute_result"
    }
   ],
   "source": [
    "'''\n",
    "Os dados dos descritores como podemos observar na tabela acima estão com \",\"\n",
    "porém o padrão para ponto flutuante (float) em python é \".\" logo a biblioteca \n",
    "entendeu que se tratavam de strings (objects para o pandas) e não de floats \n",
    "assim é importante transformar esses dados para float.\n",
    "'''\n",
    "df[ALL] = df[ALL].apply(lambda x: x.str.replace(',', '.').astype(float), axis=1)\n",
    "print(list(df[ALL].dtypes))\n",
    "df[ALL].head(2)"
   ]
  },
  {
   "cell_type": "code",
   "execution_count": 8,
   "id": "279c84ae",
   "metadata": {},
   "outputs": [],
   "source": [
    "dts_x = df[ALL]\n",
    "dts_y = df['classe']"
   ]
  },
  {
   "cell_type": "markdown",
   "id": "56f6cd8f",
   "metadata": {},
   "source": [
    "### ZERO R"
   ]
  },
  {
   "cell_type": "code",
   "execution_count": 20,
   "id": "f69bd690",
   "metadata": {},
   "outputs": [],
   "source": [
    "def classification_report(scores):\n",
    "    from scipy import stats\n",
    "    import numpy as np\n",
    "    print(f'Media: {scores.mean():.2f}, Desvio Padrao: {scores.std():.2f}')\n",
    "    inf, sup = stats.norm.interval(0.95, loc=scores.mean(), \n",
    "                               scale=scores.std()/np.sqrt(len(scores)))\n",
    "    print(f'Intervalo de confiança (95%): [{inf:.2f},{sup:.2f}]')"
   ]
  },
  {
   "cell_type": "code",
   "execution_count": 21,
   "id": "e54edf97",
   "metadata": {},
   "outputs": [
    {
     "name": "stdout",
     "output_type": "stream",
     "text": [
      "Media: 0.17, Desvio Padrao: 0.01\n",
      "Intervalo de confiança (95%): [0.16,0.17]\n"
     ]
    }
   ],
   "source": [
    "from sklearn.dummy import DummyClassifier\n",
    "\n",
    "zR = DummyClassifier()\n",
    "\n",
    "scores1 = cross_val_score(zR, dts_x, dts_y, cv = rkf)\n",
    "\n",
    "classification_report(scores1)"
   ]
  },
  {
   "cell_type": "markdown",
   "id": "027a4b5e",
   "metadata": {},
   "source": [
    "### Bagging"
   ]
  },
  {
   "cell_type": "code",
   "execution_count": 22,
   "id": "e65be869",
   "metadata": {},
   "outputs": [
    {
     "name": "stdout",
     "output_type": "stream",
     "text": [
      "Media: 0.47, Desvio Padrao: 0.08\n",
      "Intervalo de confiança (95%): [0.44,0.50]\n"
     ]
    }
   ],
   "source": [
    "from sklearn.ensemble import BaggingClassifier\n",
    "from sklearn.naive_bayes import GaussianNB\n",
    "from sklearn.model_selection import GridSearchCV\n",
    "from sklearn.pipeline import Pipeline\n",
    "from sklearn.preprocessing import StandardScaler\n",
    "\n",
    "parameters = {'bagging__n_estimators':n_estimators}\n",
    "\n",
    "bg = BaggingClassifier(estimator=GaussianNB(), random_state=11)\n",
    "\n",
    "pipe = Pipeline([('scaler', StandardScaler()), ('bagging', bg)])\n",
    "\n",
    "clf = GridSearchCV(pipe, parameters,cv=4)\n",
    "\n",
    "scores2 = cross_val_score(clf, dts_x, dts_y, cv = rkf)\n",
    "\n",
    "classification_report(scores2)"
   ]
  },
  {
   "cell_type": "markdown",
   "id": "70389146",
   "metadata": {},
   "source": [
    "### AdaBoost"
   ]
  },
  {
   "cell_type": "code",
   "execution_count": 23,
   "id": "2e94ac23",
   "metadata": {
    "scrolled": true
   },
   "outputs": [
    {
     "name": "stdout",
     "output_type": "stream",
     "text": [
      "Media: 0.39, Desvio Padrao: 0.08\n",
      "Intervalo de confiança (95%): [0.36,0.42]\n"
     ]
    }
   ],
   "source": [
    "from sklearn.ensemble import AdaBoostClassifier\n",
    "\n",
    "parameters = {'boosting__n_estimators':n_estimators}\n",
    "\n",
    "adb = AdaBoostClassifier(estimator=GaussianNB(), random_state=11)\n",
    "\n",
    "pipe = Pipeline([('scaler', StandardScaler()), ('boosting',adb)])\n",
    "\n",
    "clf = GridSearchCV(pipe, parameters,cv=4)\n",
    "\n",
    "scores3 = cross_val_score(clf, dts_x, dts_y, cv = rkf)\n",
    "\n",
    "classification_report(scores3)"
   ]
  },
  {
   "cell_type": "markdown",
   "id": "ca3aa9dc",
   "metadata": {},
   "source": [
    "### RandomFlorest"
   ]
  },
  {
   "cell_type": "code",
   "execution_count": 26,
   "id": "b216c2b0",
   "metadata": {},
   "outputs": [
    {
     "name": "stdout",
     "output_type": "stream",
     "text": [
      "Media: 0.65, Desvio Padrao: 0.07\n",
      "Intervalo de confiança (95%): [0.63,0.68]\n"
     ]
    }
   ],
   "source": [
    "from sklearn.ensemble import RandomForestClassifier\n",
    "from sklearn.preprocessing import StandardScaler\n",
    "\n",
    "scalar = StandardScaler()\n",
    "\n",
    "rF = RandomForestClassifier()\n",
    "\n",
    "pipeline = Pipeline([('transformer', scalar), ('estimator', rF)])\n",
    "\n",
    "grade={'estimator__n_estimators':n_estimators}\n",
    "\n",
    "gs = GridSearchCV(estimator=pipeline, param_grid = grade, cv = 4)\n",
    "\n",
    "scores3 = cross_val_score(gs, dts_x, dts_y, cv = rkf)\n",
    "\n",
    "classification_report(scores3)"
   ]
  }
 ],
 "metadata": {
  "kernelspec": {
   "display_name": "Python 3 (ipykernel)",
   "language": "python",
   "name": "python3"
  },
  "language_info": {
   "codemirror_mode": {
    "name": "ipython",
    "version": 3
   },
   "file_extension": ".py",
   "mimetype": "text/x-python",
   "name": "python",
   "nbconvert_exporter": "python",
   "pygments_lexer": "ipython3",
   "version": "3.11.3"
  }
 },
 "nbformat": 4,
 "nbformat_minor": 5
}
