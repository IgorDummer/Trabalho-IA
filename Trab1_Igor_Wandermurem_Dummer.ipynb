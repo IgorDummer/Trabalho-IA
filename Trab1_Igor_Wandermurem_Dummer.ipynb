{
  "cells": [
    {
      "attachments": {},
      "cell_type": "markdown",
      "id": "c1780329",
      "metadata": {},
      "source": [
        "## Primeiro Trabalho de Inteligência Artificial e Sistemas Inteligentes\n",
        "Igor Wandermurem Dummer - 2019109389"
      ]
    },
    {
      "attachments": {},
      "cell_type": "markdown",
      "id": "1e0b6afa",
      "metadata": {
        "id": "1e0b6afa"
      },
      "source": [
        "# Configurações"
      ]
    },
    {
      "cell_type": "code",
      "execution_count": 262,
      "id": "aaf382ac",
      "metadata": {
        "id": "aaf382ac"
      },
      "outputs": [],
      "source": [
        "import numpy as np\n",
        "import pandas as pd\n",
        "import matplotlib.pyplot as plt\n",
        "import seaborn as sns\n",
        "from scipy import stats\n",
        "from collections import Counter\n",
        "\n",
        "from sklearn import datasets\n",
        "from sklearn.model_selection import GridSearchCV, cross_val_score, RepeatedStratifiedKFold\n",
        "from sklearn.metrics import confusion_matrix\n",
        "from sklearn.preprocessing import StandardScaler\n",
        "from sklearn.pipeline import Pipeline\n",
        "from sklearn.base import BaseEstimator\n",
        "from sklearn.utils import resample, check_random_state\n",
        "\n",
        "from sklearn.dummy import DummyClassifier\n",
        "from sklearn.ensemble import BaggingClassifier\n",
        "from sklearn.ensemble import AdaBoostClassifier\n",
        "from sklearn.ensemble import RandomForestClassifier\n",
        "from sklearn.tree import DecisionTreeClassifier\n",
        "from sklearn.neighbors import KNeighborsClassifier\n",
        "from sklearn.naive_bayes import GaussianNB"
      ]
    },
    {
      "attachments": {},
      "cell_type": "markdown",
      "id": "2b4f5cfe",
      "metadata": {
        "id": "2b4f5cfe"
      },
      "source": [
        "### Load dataset"
      ]
    },
    {
      "cell_type": "code",
      "execution_count": 263,
      "id": "9ca0a351",
      "metadata": {
        "id": "9ca0a351"
      },
      "outputs": [],
      "source": [
        "# Importação da base de dados\n",
        "df = pd.read_csv('https://raw.githubusercontent.com/VitorBonella/PL-Dataset/main/dataset.csv',sep=\";\") #Leitura dos dados para o pandas"
      ]
    },
    {
      "cell_type": "code",
      "execution_count": 264,
      "id": "05bd24e7",
      "metadata": {
        "id": "05bd24e7",
        "scrolled": true
      },
      "outputs": [],
      "source": [
        "# Lista de Indices\n",
        "FOURIER = ['df01', 'df02', 'df03', 'df04','df05', 'df06', 'df07', 'df08', 'df09', 'df10']\n",
        "HU = ['i1', 'i2', 'i3', 'i4','i5', 'i6', 'i7']\n",
        "HARALICK = ['probmax', 'energia', 'entropia', 'contraste','homogeneidade', 'correlacao']\n",
        "\n",
        "# Como minha matrícula é terminada em 9 (especificação), utilizarei 7 descritores de Hu e 6 descritores de Haralick.\n",
        "ALL = HU + HARALICK"
      ]
    },
    {
      "cell_type": "code",
      "execution_count": 265,
      "id": "d128d06e",
      "metadata": {
        "id": "d128d06e"
      },
      "outputs": [],
      "source": [
        "df.set_index('id',inplace=True) #Transformando a coluna id no indice da tabela\n",
        "\n",
        "# Transformando valores em float\n",
        "df[ALL] = df[ALL].apply(lambda x: x.str.replace(',', '.').astype(float), axis=1)\n",
        "\n",
        "#Observem que a classe esta separada em duas colunas então devemos concatenadas para formar uma coluna só chamada classe\n",
        "df['classe'] = df['tipo_lampada'].str.replace(\" \", \"\") + df['potencia'].astype(str) "
      ]
    },
    {
      "cell_type": "code",
      "execution_count": 266,
      "id": "a93559a0",
      "metadata": {
        "colab": {
          "base_uri": "https://localhost:8080/"
        },
        "id": "a93559a0",
        "outputId": "100d5300-42a1-4bf2-99bd-ff89edbf0f86"
      },
      "outputs": [
        {
          "data": {
            "text/plain": [
              "id\n",
              "355    metalica400\n",
              "356    metalica400\n",
              "357    metalica400\n",
              "358    metalica400\n",
              "359    metalica400\n",
              "          ...     \n",
              "656    metalica250\n",
              "657    metalica250\n",
              "658    metalica250\n",
              "659    metalica250\n",
              "660    metalica250\n",
              "Name: classe, Length: 297, dtype: object"
            ]
          },
          "execution_count": 266,
          "metadata": {},
          "output_type": "execute_result"
        }
      ],
      "source": [
        "df['classe']"
      ]
    },
    {
      "cell_type": "code",
      "execution_count": 267,
      "id": "73fdad3f",
      "metadata": {
        "colab": {
          "base_uri": "https://localhost:8080/",
          "height": 242
        },
        "id": "73fdad3f",
        "outputId": "acb4dda0-7203-4f97-caf9-5ca8843b5875",
        "scrolled": false
      },
      "outputs": [
        {
          "data": {
            "text/html": [
              "\n",
              "  <div id=\"df-c300f27c-7e5d-4fd5-9b6e-6cf99afec134\">\n",
              "    <div class=\"colab-df-container\">\n",
              "      <div>\n",
              "<style scoped>\n",
              "    .dataframe tbody tr th:only-of-type {\n",
              "        vertical-align: middle;\n",
              "    }\n",
              "\n",
              "    .dataframe tbody tr th {\n",
              "        vertical-align: top;\n",
              "    }\n",
              "\n",
              "    .dataframe thead th {\n",
              "        text-align: right;\n",
              "    }\n",
              "</style>\n",
              "<table border=\"1\" class=\"dataframe\">\n",
              "  <thead>\n",
              "    <tr style=\"text-align: right;\">\n",
              "      <th></th>\n",
              "      <th>i1</th>\n",
              "      <th>i2</th>\n",
              "      <th>i3</th>\n",
              "      <th>i4</th>\n",
              "      <th>i5</th>\n",
              "      <th>i6</th>\n",
              "      <th>i7</th>\n",
              "      <th>probmax</th>\n",
              "      <th>energia</th>\n",
              "      <th>entropia</th>\n",
              "      <th>contraste</th>\n",
              "      <th>homogeneidade</th>\n",
              "      <th>correlacao</th>\n",
              "    </tr>\n",
              "    <tr>\n",
              "      <th>id</th>\n",
              "      <th></th>\n",
              "      <th></th>\n",
              "      <th></th>\n",
              "      <th></th>\n",
              "      <th></th>\n",
              "      <th></th>\n",
              "      <th></th>\n",
              "      <th></th>\n",
              "      <th></th>\n",
              "      <th></th>\n",
              "      <th></th>\n",
              "      <th></th>\n",
              "      <th></th>\n",
              "    </tr>\n",
              "  </thead>\n",
              "  <tbody>\n",
              "    <tr>\n",
              "      <th>355</th>\n",
              "      <td>0.168084</td>\n",
              "      <td>0.000615</td>\n",
              "      <td>0.000131</td>\n",
              "      <td>5.717751e-05</td>\n",
              "      <td>3.808159e-09</td>\n",
              "      <td>-1.417337e-06</td>\n",
              "      <td>3.153370e-09</td>\n",
              "      <td>0.890374</td>\n",
              "      <td>3.170342</td>\n",
              "      <td>6.571618</td>\n",
              "      <td>-30.712990</td>\n",
              "      <td>3.763049</td>\n",
              "      <td>0.000304</td>\n",
              "    </tr>\n",
              "    <tr>\n",
              "      <th>356</th>\n",
              "      <td>0.164507</td>\n",
              "      <td>0.001087</td>\n",
              "      <td>0.000043</td>\n",
              "      <td>1.011576e-08</td>\n",
              "      <td>-5.395931e-15</td>\n",
              "      <td>-6.859661e-11</td>\n",
              "      <td>3.907229e-15</td>\n",
              "      <td>0.874335</td>\n",
              "      <td>3.056052</td>\n",
              "      <td>7.561434</td>\n",
              "      <td>-37.105195</td>\n",
              "      <td>3.722622</td>\n",
              "      <td>0.000269</td>\n",
              "    </tr>\n",
              "  </tbody>\n",
              "</table>\n",
              "</div>\n",
              "      <button class=\"colab-df-convert\" onclick=\"convertToInteractive('df-c300f27c-7e5d-4fd5-9b6e-6cf99afec134')\"\n",
              "              title=\"Convert this dataframe to an interactive table.\"\n",
              "              style=\"display:none;\">\n",
              "        \n",
              "  <svg xmlns=\"http://www.w3.org/2000/svg\" height=\"24px\"viewBox=\"0 0 24 24\"\n",
              "       width=\"24px\">\n",
              "    <path d=\"M0 0h24v24H0V0z\" fill=\"none\"/>\n",
              "    <path d=\"M18.56 5.44l.94 2.06.94-2.06 2.06-.94-2.06-.94-.94-2.06-.94 2.06-2.06.94zm-11 1L8.5 8.5l.94-2.06 2.06-.94-2.06-.94L8.5 2.5l-.94 2.06-2.06.94zm10 10l.94 2.06.94-2.06 2.06-.94-2.06-.94-.94-2.06-.94 2.06-2.06.94z\"/><path d=\"M17.41 7.96l-1.37-1.37c-.4-.4-.92-.59-1.43-.59-.52 0-1.04.2-1.43.59L10.3 9.45l-7.72 7.72c-.78.78-.78 2.05 0 2.83L4 21.41c.39.39.9.59 1.41.59.51 0 1.02-.2 1.41-.59l7.78-7.78 2.81-2.81c.8-.78.8-2.07 0-2.86zM5.41 20L4 18.59l7.72-7.72 1.47 1.35L5.41 20z\"/>\n",
              "  </svg>\n",
              "      </button>\n",
              "      \n",
              "  <style>\n",
              "    .colab-df-container {\n",
              "      display:flex;\n",
              "      flex-wrap:wrap;\n",
              "      gap: 12px;\n",
              "    }\n",
              "\n",
              "    .colab-df-convert {\n",
              "      background-color: #E8F0FE;\n",
              "      border: none;\n",
              "      border-radius: 50%;\n",
              "      cursor: pointer;\n",
              "      display: none;\n",
              "      fill: #1967D2;\n",
              "      height: 32px;\n",
              "      padding: 0 0 0 0;\n",
              "      width: 32px;\n",
              "    }\n",
              "\n",
              "    .colab-df-convert:hover {\n",
              "      background-color: #E2EBFA;\n",
              "      box-shadow: 0px 1px 2px rgba(60, 64, 67, 0.3), 0px 1px 3px 1px rgba(60, 64, 67, 0.15);\n",
              "      fill: #174EA6;\n",
              "    }\n",
              "\n",
              "    [theme=dark] .colab-df-convert {\n",
              "      background-color: #3B4455;\n",
              "      fill: #D2E3FC;\n",
              "    }\n",
              "\n",
              "    [theme=dark] .colab-df-convert:hover {\n",
              "      background-color: #434B5C;\n",
              "      box-shadow: 0px 1px 3px 1px rgba(0, 0, 0, 0.15);\n",
              "      filter: drop-shadow(0px 1px 2px rgba(0, 0, 0, 0.3));\n",
              "      fill: #FFFFFF;\n",
              "    }\n",
              "  </style>\n",
              "\n",
              "      <script>\n",
              "        const buttonEl =\n",
              "          document.querySelector('#df-c300f27c-7e5d-4fd5-9b6e-6cf99afec134 button.colab-df-convert');\n",
              "        buttonEl.style.display =\n",
              "          google.colab.kernel.accessAllowed ? 'block' : 'none';\n",
              "\n",
              "        async function convertToInteractive(key) {\n",
              "          const element = document.querySelector('#df-c300f27c-7e5d-4fd5-9b6e-6cf99afec134');\n",
              "          const dataTable =\n",
              "            await google.colab.kernel.invokeFunction('convertToInteractive',\n",
              "                                                     [key], {});\n",
              "          if (!dataTable) return;\n",
              "\n",
              "          const docLinkHtml = 'Like what you see? Visit the ' +\n",
              "            '<a target=\"_blank\" href=https://colab.research.google.com/notebooks/data_table.ipynb>data table notebook</a>'\n",
              "            + ' to learn more about interactive tables.';\n",
              "          element.innerHTML = '';\n",
              "          dataTable['output_type'] = 'display_data';\n",
              "          await google.colab.output.renderOutput(dataTable, element);\n",
              "          const docLink = document.createElement('div');\n",
              "          docLink.innerHTML = docLinkHtml;\n",
              "          element.appendChild(docLink);\n",
              "        }\n",
              "      </script>\n",
              "    </div>\n",
              "  </div>\n",
              "  "
            ],
            "text/plain": [
              "           i1        i2        i3            i4            i5            i6  \\\n",
              "id                                                                            \n",
              "355  0.168084  0.000615  0.000131  5.717751e-05  3.808159e-09 -1.417337e-06   \n",
              "356  0.164507  0.001087  0.000043  1.011576e-08 -5.395931e-15 -6.859661e-11   \n",
              "\n",
              "               i7   probmax   energia  entropia  contraste  homogeneidade  \\\n",
              "id                                                                          \n",
              "355  3.153370e-09  0.890374  3.170342  6.571618 -30.712990       3.763049   \n",
              "356  3.907229e-15  0.874335  3.056052  7.561434 -37.105195       3.722622   \n",
              "\n",
              "     correlacao  \n",
              "id               \n",
              "355    0.000304  \n",
              "356    0.000269  "
            ]
          },
          "execution_count": 267,
          "metadata": {},
          "output_type": "execute_result"
        }
      ],
      "source": [
        "df[ALL].head(2)"
      ]
    },
    {
      "cell_type": "code",
      "execution_count": 268,
      "id": "279c84ae",
      "metadata": {
        "id": "279c84ae"
      },
      "outputs": [],
      "source": [
        "X = df[ALL]\n",
        "y = df['classe']"
      ]
    },
    {
      "attachments": {},
      "cell_type": "markdown",
      "id": "hiw2gA4YHnFx",
      "metadata": {
        "id": "hiw2gA4YHnFx"
      },
      "source": [
        "## Funções e variáveis úteis"
      ]
    },
    {
      "cell_type": "code",
      "execution_count": 269,
      "id": "Va-Q7e9NHmeE",
      "metadata": {
        "id": "Va-Q7e9NHmeE"
      },
      "outputs": [],
      "source": [
        "# Valor de split, repeat e estimators utilizados diversas vezes\n",
        "\n",
        "n_splits = 10\n",
        "n_repeats = 3\n",
        "n_estimators = [3,9,15,21]"
      ]
    },
    {
      "cell_type": "code",
      "execution_count": 270,
      "id": "e16e6c20",
      "metadata": {
        "id": "e16e6c20"
      },
      "outputs": [],
      "source": [
        "# Exibe o valor de média, desvio padrão e o intervalo de confiança\n",
        "def classification_report(scores):\n",
        "    print(f'Media: {scores.mean():.8f}, Desvio Padrao: {scores.std():.8f}')\n",
        "    inf, sup = stats.norm.interval(0.95, loc=scores.mean(), \n",
        "                               scale=scores.std()/np.sqrt(len(scores)))\n",
        "    print(f'Intervalo de confiança (95%): [{inf:.8f},{sup:.8f}]')"
      ]
    },
    {
      "cell_type": "code",
      "execution_count": 271,
      "id": "_d5mnFO9mgqF",
      "metadata": {
        "id": "_d5mnFO9mgqF"
      },
      "outputs": [],
      "source": [
        "scores_list = [] # Lista onde será armazenados os scores obtidos pelos classificadores\n",
        "\n",
        "# Cria e define as colunas da tabela de resultados\n",
        "result_table = pd.DataFrame(columns=['Método', 'Média', 'Desvio Padrão', 'Limite Inferior', 'Limite Superior'])"
      ]
    },
    {
      "cell_type": "code",
      "execution_count": 272,
      "id": "CRcVLBMdqPxi",
      "metadata": {
        "id": "CRcVLBMdqPxi"
      },
      "outputs": [],
      "source": [
        "# Adicona linhas correspondentes a cada classificador na tabela de resultado\n",
        "def set_table(result_table, scores, scores_name):\n",
        "  inf, sup = stats.norm.interval(0.95, loc=scores.mean(), \n",
        "                               scale=scores.std()/np.sqrt(len(scores)))\n",
        "  row = {'Método': [scores_name],\n",
        "           'Média': [scores.mean()],\n",
        "           'Desvio Padrão':[scores.std()],\n",
        "           'Limite Inferior': inf,\n",
        "           'Limite Superior': sup\n",
        "          }\n",
        "\n",
        "  # concat para adicionar a linha a uma tabela ja existente\n",
        "  return pd.concat([result_table, pd.DataFrame(row)], ignore_index=True)"
      ]
    },
    {
      "attachments": {},
      "cell_type": "markdown",
      "id": "56f6cd8f",
      "metadata": {
        "id": "56f6cd8f"
      },
      "source": [
        "## ZeroR (ZR)"
      ]
    },
    {
      "cell_type": "code",
      "execution_count": 273,
      "id": "a415f3f8",
      "metadata": {
        "colab": {
          "base_uri": "https://localhost:8080/"
        },
        "id": "a415f3f8",
        "outputId": "7ddb7251-340c-4455-c9bf-673f1f566780"
      },
      "outputs": [
        {
          "name": "stdout",
          "output_type": "stream",
          "text": [
            "Media: 0.16505747, Desvio Padrao: 0.01088258\n",
            "Intervalo de confiança (95%): [0.16116326,0.16895168]\n"
          ]
        }
      ],
      "source": [
        "# Cria classificador Dummy\n",
        "zR = DummyClassifier()\n",
        "\n",
        "# Estratégia de validação cruzada estratificada (3 rodadas e 10 folds)\n",
        "rkf = RepeatedStratifiedKFold(n_splits = n_splits, n_repeats = n_repeats, random_state = 36851234)\n",
        "scoresZR = cross_val_score(zR, X, y, scoring='accuracy', cv = rkf)\n",
        "\n",
        "# Exibe, adiciona na lista de scores e na tabela de resultados o score obtido\n",
        "classification_report(scoresZR)\n",
        "scores_list.append(scoresZR)\n",
        "result_table = set_table(result_table, scoresZR, 'ZR')"
      ]
    },
    {
      "attachments": {},
      "cell_type": "markdown",
      "id": "027a4b5e",
      "metadata": {
        "id": "027a4b5e"
      },
      "source": [
        "### Bagging (BA)"
      ]
    },
    {
      "cell_type": "code",
      "execution_count": 274,
      "id": "e65be869",
      "metadata": {
        "colab": {
          "base_uri": "https://localhost:8080/"
        },
        "id": "e65be869",
        "outputId": "a820cc85-924e-467a-e4ce-a9a8c989c308"
      },
      "outputs": [
        {
          "name": "stdout",
          "output_type": "stream",
          "text": [
            "Media: 0.64942529, Desvio Padrao: 0.08962815\n",
            "Intervalo de confiança (95%): [0.61735285,0.68149772]\n"
          ]
        }
      ],
      "source": [
        "parameters = {'bagging__n_estimators':n_estimators}\n",
        "\n",
        "# Cria um classificador Bagging com um valor específico de random_state\n",
        "bg = BaggingClassifier(random_state=11)\n",
        "\n",
        "pipe = Pipeline([('scaler', StandardScaler()), ('bagging', bg)])\n",
        "\n",
        "# Realiza busca em grade com validação cruzada\n",
        "clf = GridSearchCV(pipe, parameters, scoring='accuracy', cv=4)\n",
        "rkf = RepeatedStratifiedKFold(n_splits = n_splits, n_repeats = n_repeats, random_state = 36851234)\n",
        "scoresBA = cross_val_score(clf, X, y, scoring='accuracy', cv = rkf)\n",
        "\n",
        "# Exibe, adiciona na lista de scores e na tabela de resultados o score obtido\n",
        "classification_report(scoresBA)\n",
        "scores_list.append(scoresBA)\n",
        "result_table = set_table(result_table, scoresBA, 'BA')"
      ]
    },
    {
      "attachments": {},
      "cell_type": "markdown",
      "id": "70389146",
      "metadata": {
        "id": "70389146"
      },
      "source": [
        "### AdaBoost (AB)"
      ]
    },
    {
      "cell_type": "code",
      "execution_count": 275,
      "id": "2e94ac23",
      "metadata": {
        "colab": {
          "base_uri": "https://localhost:8080/"
        },
        "id": "2e94ac23",
        "outputId": "5fd90644-e149-409c-d7df-b65de1cdb188",
        "scrolled": true
      },
      "outputs": [
        {
          "name": "stdout",
          "output_type": "stream",
          "text": [
            "Media: 0.33793103, Desvio Padrao: 0.03120007\n",
            "Intervalo de confiança (95%): [0.32676644,0.34909563]\n"
          ]
        }
      ],
      "source": [
        "parameters = {'boosting__n_estimators':n_estimators}\n",
        "\n",
        "# Cria um classificador AdaBoost com um valor específico de random_state\n",
        "adb = AdaBoostClassifier(random_state=11)\n",
        "\n",
        "pipe = Pipeline([('scaler', StandardScaler()), ('boosting',adb)])\n",
        "\n",
        "clf = GridSearchCV(pipe, parameters, scoring='accuracy', cv=4)\n",
        "rkf = RepeatedStratifiedKFold(n_splits = n_splits, n_repeats = n_repeats, random_state = 36851234)\n",
        "scoresAB = cross_val_score(clf, X, y, scoring='accuracy', cv = rkf)\n",
        "\n",
        "# Exibe, adiciona na lista de scores e na tabela de resultados o score obtido\n",
        "classification_report(scoresAB)\n",
        "scores_list.append(scoresAB)\n",
        "result_table = set_table(result_table, scoresAB, 'AB')"
      ]
    },
    {
      "attachments": {},
      "cell_type": "markdown",
      "id": "ca3aa9dc",
      "metadata": {
        "id": "ca3aa9dc"
      },
      "source": [
        "### RandomForest (RF)"
      ]
    },
    {
      "cell_type": "code",
      "execution_count": 276,
      "id": "b216c2b0",
      "metadata": {
        "colab": {
          "base_uri": "https://localhost:8080/"
        },
        "id": "b216c2b0",
        "outputId": "c4b24711-d969-42d4-872f-16deb6886222"
      },
      "outputs": [
        {
          "name": "stdout",
          "output_type": "stream",
          "text": [
            "Media: 0.64911877, Desvio Padrao: 0.06616799\n",
            "Intervalo de confiança (95%): [0.62544130,0.67279625]\n"
          ]
        }
      ],
      "source": [
        "parameters = {'randomforest__n_estimators':n_estimators}\n",
        "\n",
        "# Cria um classificador RandomForest com um valor específico de random_state\n",
        "rF = RandomForestClassifier(random_state=11)\n",
        "\n",
        "pipeline = Pipeline([('scaler', StandardScaler()), ('randomforest', rF)])\n",
        "\n",
        "clf = GridSearchCV(pipeline, parameters, scoring='accuracy', cv=4)\n",
        "rkf = RepeatedStratifiedKFold(n_splits = n_splits, n_repeats = n_repeats, random_state = 36851234)\n",
        "scoresRF = cross_val_score(clf, X, y, scoring='accuracy', cv=rkf)\n",
        "\n",
        "# Exibe, adiciona na lista de scores e na tabela de resultados o score obtido\n",
        "classification_report(scoresRF)\n",
        "scores_list.append(scoresRF)\n",
        "result_table = set_table(result_table, scoresRF, 'RF')"
      ]
    },
    {
      "attachments": {},
      "cell_type": "markdown",
      "id": "d5521f80",
      "metadata": {
        "id": "d5521f80"
      },
      "source": [
        "### Heterogeneus Pooling (HP)"
      ]
    },
    {
      "cell_type": "code",
      "execution_count": 277,
      "id": "a64c72ae",
      "metadata": {
        "id": "a64c72ae"
      },
      "outputs": [],
      "source": [
        "class HeterogeneousPooling(BaseEstimator):\n",
        "    def __init__(self, n_samples=1):\n",
        "        self.n_samples = n_samples\n",
        "        self.classifiers = []\n",
        "\n",
        "    def fit(self, X, y):\n",
        "        # Ordena as classes em ordem decrescente de contagem\n",
        "        class_counts = Counter(y)\n",
        "        self.class_order_ = sorted(class_counts, key=class_counts.get, reverse=True)\n",
        "\n",
        "        # Random state deve ser iniciado com zero\n",
        "        random_state = 0\n",
        "\n",
        "        # Classificadores a serem utilizados no HeterogeneousPooling\n",
        "        dt = DecisionTreeClassifier()\n",
        "        nb = GaussianNB()\n",
        "        knn = KNeighborsClassifier()\n",
        "\n",
        "        for i in range(self.n_samples):\n",
        "            if i == 0: # Começa a partir do original\n",
        "              X_train = X\n",
        "              y_train = y\n",
        "            else: # Faz a reamostragem dos dados\n",
        "              X_train, y_train = resample(X, y, random_state=random_state)\n",
        "              random_state += 1\n",
        "\n",
        "            # Treina os classificadores com os dados de treinamento\n",
        "            clf_dt = dt.fit(X_train, y_train)\n",
        "            clf_nb = nb.fit(X_train, y_train)\n",
        "            clf_knn = knn.fit(X_train, y_train)\n",
        "\n",
        "            # Armazena os classificadores treinados na lista de classificadores\n",
        "            self.classifiers.append(clf_dt)\n",
        "            self.classifiers.append(clf_nb)\n",
        "            self.classifiers.append(clf_knn)\n",
        "\n",
        "    def predict(self, X):\n",
        "        # Realiza previsões utilizando todos os classificadores\n",
        "        predictions = np.column_stack([clf.predict(X) for clf in self.classifiers])\n",
        "\n",
        "        final_predictions = []\n",
        "        # Para cada exemplo, combina as previsões dos classificadores\n",
        "        for i in range(predictions.shape[0]):\n",
        "            # Pega as previsões dos classificadores de um determinado i nos dados de teste\n",
        "            votes = predictions[i, :]\n",
        "\n",
        "            # Conta as ocorrências das previsões de cada classe\n",
        "            vote_count = Counter(votes)\n",
        "            max_vote = max(vote_count.values())\n",
        "\n",
        "            most_frequent_class = None\n",
        "            # Identifica a classe mais frequente entre as previsões\n",
        "            for cls, count in vote_count.items():\n",
        "                if count == max_vote:\n",
        "                    if most_frequent_class is None:\n",
        "                        most_frequent_class = cls\n",
        "                    elif self.class_order_.index(cls) < self.class_order_.index(most_frequent_class):\n",
        "                        most_frequent_class = cls\n",
        "\n",
        "            # Armazena a classe mais frequente         \n",
        "            final_predictions.append(most_frequent_class)\n",
        "\n",
        "        return final_predictions\n"
      ]
    },
    {
      "cell_type": "code",
      "execution_count": 278,
      "id": "ce25f347",
      "metadata": {
        "colab": {
          "base_uri": "https://localhost:8080/"
        },
        "id": "ce25f347",
        "outputId": "622abf17-ac05-4da6-c54c-2204c8c6eabd",
        "scrolled": false
      },
      "outputs": [
        {
          "name": "stdout",
          "output_type": "stream",
          "text": [
            "Media: 0.57950192, Desvio Padrao: 0.09458268\n",
            "Intervalo de confiança (95%): [0.54565656,0.61334727]\n"
          ]
        }
      ],
      "source": [
        "parameters = {'heterogeneous__n_samples': [1, 3, 5, 7]}\n",
        "\n",
        "# Cria um classificador RandomForest com um valor específico de random_state\n",
        "hp = HeterogeneousPooling()\n",
        "\n",
        "pipe = Pipeline([('scaler', StandardScaler()), ('heterogeneous', hp)])\n",
        "\n",
        "clf = GridSearchCV(pipe, parameters, scoring='accuracy', cv=4)\n",
        "rkf = RepeatedStratifiedKFold(n_splits=n_splits, n_repeats=n_repeats, random_state=36851234)\n",
        "scoresHP = cross_val_score(clf, X, y, scoring='accuracy', cv=rkf)\n",
        "\n",
        "# Exibe, adiciona na lista de scores e na tabela de resultados o score obtido\n",
        "classification_report(scoresHP)\n",
        "scores_list.append(scoresHP)\n",
        "result_table = set_table(result_table, scoresHP, 'HP')"
      ]
    },
    {
      "attachments": {},
      "cell_type": "markdown",
      "id": "f-tEPNCbvJG9",
      "metadata": {
        "id": "f-tEPNCbvJG9"
      },
      "source": [
        "## Resultados\n"
      ]
    },
    {
      "attachments": {},
      "cell_type": "markdown",
      "id": "yhgXDJT_vW71",
      "metadata": {
        "id": "yhgXDJT_vW71"
      },
      "source": [
        "### Tabela de Resultados"
      ]
    },
    {
      "cell_type": "code",
      "execution_count": 279,
      "id": "IMzWw64JtFL9",
      "metadata": {
        "colab": {
          "base_uri": "https://localhost:8080/",
          "height": 206
        },
        "id": "IMzWw64JtFL9",
        "outputId": "335d7385-b8ab-4d70-f70d-b8ba3a058581"
      },
      "outputs": [
        {
          "data": {
            "text/html": [
              "\n",
              "  <div id=\"df-099858d5-8f31-4c0d-95cd-fca9a847c3a8\">\n",
              "    <div class=\"colab-df-container\">\n",
              "      <div>\n",
              "<style scoped>\n",
              "    .dataframe tbody tr th:only-of-type {\n",
              "        vertical-align: middle;\n",
              "    }\n",
              "\n",
              "    .dataframe tbody tr th {\n",
              "        vertical-align: top;\n",
              "    }\n",
              "\n",
              "    .dataframe thead th {\n",
              "        text-align: right;\n",
              "    }\n",
              "</style>\n",
              "<table border=\"1\" class=\"dataframe\">\n",
              "  <thead>\n",
              "    <tr style=\"text-align: right;\">\n",
              "      <th></th>\n",
              "      <th>Método</th>\n",
              "      <th>Média</th>\n",
              "      <th>Desvio Padrão</th>\n",
              "      <th>Limite Inferior</th>\n",
              "      <th>Limite Superior</th>\n",
              "    </tr>\n",
              "  </thead>\n",
              "  <tbody>\n",
              "    <tr>\n",
              "      <th>0</th>\n",
              "      <td>ZR</td>\n",
              "      <td>0.165057</td>\n",
              "      <td>0.010883</td>\n",
              "      <td>0.161163</td>\n",
              "      <td>0.168952</td>\n",
              "    </tr>\n",
              "    <tr>\n",
              "      <th>1</th>\n",
              "      <td>BA</td>\n",
              "      <td>0.649425</td>\n",
              "      <td>0.089628</td>\n",
              "      <td>0.617353</td>\n",
              "      <td>0.681498</td>\n",
              "    </tr>\n",
              "    <tr>\n",
              "      <th>2</th>\n",
              "      <td>AB</td>\n",
              "      <td>0.337931</td>\n",
              "      <td>0.031200</td>\n",
              "      <td>0.326766</td>\n",
              "      <td>0.349096</td>\n",
              "    </tr>\n",
              "    <tr>\n",
              "      <th>3</th>\n",
              "      <td>RF</td>\n",
              "      <td>0.649119</td>\n",
              "      <td>0.066168</td>\n",
              "      <td>0.625441</td>\n",
              "      <td>0.672796</td>\n",
              "    </tr>\n",
              "    <tr>\n",
              "      <th>4</th>\n",
              "      <td>HP</td>\n",
              "      <td>0.579502</td>\n",
              "      <td>0.094583</td>\n",
              "      <td>0.545657</td>\n",
              "      <td>0.613347</td>\n",
              "    </tr>\n",
              "  </tbody>\n",
              "</table>\n",
              "</div>\n",
              "      <button class=\"colab-df-convert\" onclick=\"convertToInteractive('df-099858d5-8f31-4c0d-95cd-fca9a847c3a8')\"\n",
              "              title=\"Convert this dataframe to an interactive table.\"\n",
              "              style=\"display:none;\">\n",
              "        \n",
              "  <svg xmlns=\"http://www.w3.org/2000/svg\" height=\"24px\"viewBox=\"0 0 24 24\"\n",
              "       width=\"24px\">\n",
              "    <path d=\"M0 0h24v24H0V0z\" fill=\"none\"/>\n",
              "    <path d=\"M18.56 5.44l.94 2.06.94-2.06 2.06-.94-2.06-.94-.94-2.06-.94 2.06-2.06.94zm-11 1L8.5 8.5l.94-2.06 2.06-.94-2.06-.94L8.5 2.5l-.94 2.06-2.06.94zm10 10l.94 2.06.94-2.06 2.06-.94-2.06-.94-.94-2.06-.94 2.06-2.06.94z\"/><path d=\"M17.41 7.96l-1.37-1.37c-.4-.4-.92-.59-1.43-.59-.52 0-1.04.2-1.43.59L10.3 9.45l-7.72 7.72c-.78.78-.78 2.05 0 2.83L4 21.41c.39.39.9.59 1.41.59.51 0 1.02-.2 1.41-.59l7.78-7.78 2.81-2.81c.8-.78.8-2.07 0-2.86zM5.41 20L4 18.59l7.72-7.72 1.47 1.35L5.41 20z\"/>\n",
              "  </svg>\n",
              "      </button>\n",
              "      \n",
              "  <style>\n",
              "    .colab-df-container {\n",
              "      display:flex;\n",
              "      flex-wrap:wrap;\n",
              "      gap: 12px;\n",
              "    }\n",
              "\n",
              "    .colab-df-convert {\n",
              "      background-color: #E8F0FE;\n",
              "      border: none;\n",
              "      border-radius: 50%;\n",
              "      cursor: pointer;\n",
              "      display: none;\n",
              "      fill: #1967D2;\n",
              "      height: 32px;\n",
              "      padding: 0 0 0 0;\n",
              "      width: 32px;\n",
              "    }\n",
              "\n",
              "    .colab-df-convert:hover {\n",
              "      background-color: #E2EBFA;\n",
              "      box-shadow: 0px 1px 2px rgba(60, 64, 67, 0.3), 0px 1px 3px 1px rgba(60, 64, 67, 0.15);\n",
              "      fill: #174EA6;\n",
              "    }\n",
              "\n",
              "    [theme=dark] .colab-df-convert {\n",
              "      background-color: #3B4455;\n",
              "      fill: #D2E3FC;\n",
              "    }\n",
              "\n",
              "    [theme=dark] .colab-df-convert:hover {\n",
              "      background-color: #434B5C;\n",
              "      box-shadow: 0px 1px 3px 1px rgba(0, 0, 0, 0.15);\n",
              "      filter: drop-shadow(0px 1px 2px rgba(0, 0, 0, 0.3));\n",
              "      fill: #FFFFFF;\n",
              "    }\n",
              "  </style>\n",
              "\n",
              "      <script>\n",
              "        const buttonEl =\n",
              "          document.querySelector('#df-099858d5-8f31-4c0d-95cd-fca9a847c3a8 button.colab-df-convert');\n",
              "        buttonEl.style.display =\n",
              "          google.colab.kernel.accessAllowed ? 'block' : 'none';\n",
              "\n",
              "        async function convertToInteractive(key) {\n",
              "          const element = document.querySelector('#df-099858d5-8f31-4c0d-95cd-fca9a847c3a8');\n",
              "          const dataTable =\n",
              "            await google.colab.kernel.invokeFunction('convertToInteractive',\n",
              "                                                     [key], {});\n",
              "          if (!dataTable) return;\n",
              "\n",
              "          const docLinkHtml = 'Like what you see? Visit the ' +\n",
              "            '<a target=\"_blank\" href=https://colab.research.google.com/notebooks/data_table.ipynb>data table notebook</a>'\n",
              "            + ' to learn more about interactive tables.';\n",
              "          element.innerHTML = '';\n",
              "          dataTable['output_type'] = 'display_data';\n",
              "          await google.colab.output.renderOutput(dataTable, element);\n",
              "          const docLink = document.createElement('div');\n",
              "          docLink.innerHTML = docLinkHtml;\n",
              "          element.appendChild(docLink);\n",
              "        }\n",
              "      </script>\n",
              "    </div>\n",
              "  </div>\n",
              "  "
            ],
            "text/plain": [
              "  Método     Média  Desvio Padrão  Limite Inferior  Limite Superior\n",
              "0     ZR  0.165057       0.010883         0.161163         0.168952\n",
              "1     BA  0.649425       0.089628         0.617353         0.681498\n",
              "2     AB  0.337931       0.031200         0.326766         0.349096\n",
              "3     RF  0.649119       0.066168         0.625441         0.672796\n",
              "4     HP  0.579502       0.094583         0.545657         0.613347"
            ]
          },
          "execution_count": 279,
          "metadata": {},
          "output_type": "execute_result"
        }
      ],
      "source": [
        "result_table"
      ]
    },
    {
      "attachments": {},
      "cell_type": "markdown",
      "id": "pX8s-4FIveYB",
      "metadata": {
        "id": "pX8s-4FIveYB"
      },
      "source": [
        "### Tabela Pareada"
      ]
    },
    {
      "cell_type": "code",
      "execution_count": 280,
      "id": "cbaSG4axw0f0",
      "metadata": {
        "colab": {
          "base_uri": "https://localhost:8080/",
          "height": 261
        },
        "id": "cbaSG4axw0f0",
        "outputId": "b78b2a2f-5ec2-4919-d9b0-9346f18acd3c"
      },
      "outputs": [
        {
          "name": "stderr",
          "output_type": "stream",
          "text": [
            "/usr/local/lib/python3.10/dist-packages/scipy/stats/_morestats.py:3414: UserWarning: Exact p-value calculation does not work if there are zeros. Switching to normal approximation.\n",
            "  warnings.warn(\"Exact p-value calculation does not work if there are \"\n"
          ]
        },
        {
          "data": {
            "text/html": [
              "\n",
              "  <div id=\"df-ece1dce9-f98c-4586-aad1-a6516cef3421\">\n",
              "    <div class=\"colab-df-container\">\n",
              "      <div>\n",
              "<style scoped>\n",
              "    .dataframe tbody tr th:only-of-type {\n",
              "        vertical-align: middle;\n",
              "    }\n",
              "\n",
              "    .dataframe tbody tr th {\n",
              "        vertical-align: top;\n",
              "    }\n",
              "\n",
              "    .dataframe thead th {\n",
              "        text-align: right;\n",
              "    }\n",
              "</style>\n",
              "<table border=\"1\" class=\"dataframe\">\n",
              "  <thead>\n",
              "    <tr style=\"text-align: right;\">\n",
              "      <th></th>\n",
              "      <th>ZeroR</th>\n",
              "      <th>BG</th>\n",
              "      <th>AB</th>\n",
              "      <th>RF</th>\n",
              "      <th>HP</th>\n",
              "    </tr>\n",
              "  </thead>\n",
              "  <tbody>\n",
              "    <tr>\n",
              "      <th>ZeroR</th>\n",
              "      <td>ZeroR</td>\n",
              "      <td>0.000000</td>\n",
              "      <td>0.000000</td>\n",
              "      <td>0.000000</td>\n",
              "      <td>0.000000</td>\n",
              "    </tr>\n",
              "    <tr>\n",
              "      <th>BG</th>\n",
              "      <td>0.000000</td>\n",
              "      <td>BG</td>\n",
              "      <td>0.000000</td>\n",
              "      <td>0.9834</td>\n",
              "      <td>0.000576</td>\n",
              "    </tr>\n",
              "    <tr>\n",
              "      <th>AB</th>\n",
              "      <td>0.000000</td>\n",
              "      <td>0.000000</td>\n",
              "      <td>AB</td>\n",
              "      <td>0.000000</td>\n",
              "      <td>0.000000</td>\n",
              "    </tr>\n",
              "    <tr>\n",
              "      <th>RF</th>\n",
              "      <td>0.000000</td>\n",
              "      <td>0.9635</td>\n",
              "      <td>0.000000</td>\n",
              "      <td>RF</td>\n",
              "      <td>0.000129</td>\n",
              "    </tr>\n",
              "    <tr>\n",
              "      <th>HP</th>\n",
              "      <td>0.000000</td>\n",
              "      <td>0.001650</td>\n",
              "      <td>0.000000</td>\n",
              "      <td>0.000474</td>\n",
              "      <td>HP</td>\n",
              "    </tr>\n",
              "  </tbody>\n",
              "</table>\n",
              "</div>\n",
              "      <button class=\"colab-df-convert\" onclick=\"convertToInteractive('df-ece1dce9-f98c-4586-aad1-a6516cef3421')\"\n",
              "              title=\"Convert this dataframe to an interactive table.\"\n",
              "              style=\"display:none;\">\n",
              "        \n",
              "  <svg xmlns=\"http://www.w3.org/2000/svg\" height=\"24px\"viewBox=\"0 0 24 24\"\n",
              "       width=\"24px\">\n",
              "    <path d=\"M0 0h24v24H0V0z\" fill=\"none\"/>\n",
              "    <path d=\"M18.56 5.44l.94 2.06.94-2.06 2.06-.94-2.06-.94-.94-2.06-.94 2.06-2.06.94zm-11 1L8.5 8.5l.94-2.06 2.06-.94-2.06-.94L8.5 2.5l-.94 2.06-2.06.94zm10 10l.94 2.06.94-2.06 2.06-.94-2.06-.94-.94-2.06-.94 2.06-2.06.94z\"/><path d=\"M17.41 7.96l-1.37-1.37c-.4-.4-.92-.59-1.43-.59-.52 0-1.04.2-1.43.59L10.3 9.45l-7.72 7.72c-.78.78-.78 2.05 0 2.83L4 21.41c.39.39.9.59 1.41.59.51 0 1.02-.2 1.41-.59l7.78-7.78 2.81-2.81c.8-.78.8-2.07 0-2.86zM5.41 20L4 18.59l7.72-7.72 1.47 1.35L5.41 20z\"/>\n",
              "  </svg>\n",
              "      </button>\n",
              "      \n",
              "  <style>\n",
              "    .colab-df-container {\n",
              "      display:flex;\n",
              "      flex-wrap:wrap;\n",
              "      gap: 12px;\n",
              "    }\n",
              "\n",
              "    .colab-df-convert {\n",
              "      background-color: #E8F0FE;\n",
              "      border: none;\n",
              "      border-radius: 50%;\n",
              "      cursor: pointer;\n",
              "      display: none;\n",
              "      fill: #1967D2;\n",
              "      height: 32px;\n",
              "      padding: 0 0 0 0;\n",
              "      width: 32px;\n",
              "    }\n",
              "\n",
              "    .colab-df-convert:hover {\n",
              "      background-color: #E2EBFA;\n",
              "      box-shadow: 0px 1px 2px rgba(60, 64, 67, 0.3), 0px 1px 3px 1px rgba(60, 64, 67, 0.15);\n",
              "      fill: #174EA6;\n",
              "    }\n",
              "\n",
              "    [theme=dark] .colab-df-convert {\n",
              "      background-color: #3B4455;\n",
              "      fill: #D2E3FC;\n",
              "    }\n",
              "\n",
              "    [theme=dark] .colab-df-convert:hover {\n",
              "      background-color: #434B5C;\n",
              "      box-shadow: 0px 1px 3px 1px rgba(0, 0, 0, 0.15);\n",
              "      filter: drop-shadow(0px 1px 2px rgba(0, 0, 0, 0.3));\n",
              "      fill: #FFFFFF;\n",
              "    }\n",
              "  </style>\n",
              "\n",
              "      <script>\n",
              "        const buttonEl =\n",
              "          document.querySelector('#df-ece1dce9-f98c-4586-aad1-a6516cef3421 button.colab-df-convert');\n",
              "        buttonEl.style.display =\n",
              "          google.colab.kernel.accessAllowed ? 'block' : 'none';\n",
              "\n",
              "        async function convertToInteractive(key) {\n",
              "          const element = document.querySelector('#df-ece1dce9-f98c-4586-aad1-a6516cef3421');\n",
              "          const dataTable =\n",
              "            await google.colab.kernel.invokeFunction('convertToInteractive',\n",
              "                                                     [key], {});\n",
              "          if (!dataTable) return;\n",
              "\n",
              "          const docLinkHtml = 'Like what you see? Visit the ' +\n",
              "            '<a target=\"_blank\" href=https://colab.research.google.com/notebooks/data_table.ipynb>data table notebook</a>'\n",
              "            + ' to learn more about interactive tables.';\n",
              "          element.innerHTML = '';\n",
              "          dataTable['output_type'] = 'display_data';\n",
              "          await google.colab.output.renderOutput(dataTable, element);\n",
              "          const docLink = document.createElement('div');\n",
              "          docLink.innerHTML = docLinkHtml;\n",
              "          element.appendChild(docLink);\n",
              "        }\n",
              "      </script>\n",
              "    </div>\n",
              "  </div>\n",
              "  "
            ],
            "text/plain": [
              "          ZeroR        BG        AB        RF        HP\n",
              "ZeroR     ZeroR  0.000000  0.000000  0.000000  0.000000\n",
              "BG     0.000000        BG  0.000000    0.9834  0.000576\n",
              "AB     0.000000  0.000000        AB  0.000000  0.000000\n",
              "RF     0.000000    0.9635  0.000000        RF  0.000129\n",
              "HP     0.000000  0.001650  0.000000  0.000474        HP"
            ]
          },
          "execution_count": 280,
          "metadata": {},
          "output_type": "execute_result"
        }
      ],
      "source": [
        "method_names = ['ZeroR', 'BG', 'AB', 'RF', 'HP']\n",
        "\n",
        "# Cria tabela com linhas e colunas correspondendo aos classificadores\n",
        "table = pd.DataFrame(columns=method_names, index=method_names)\n",
        "\n",
        "for i in range(len(method_names)):\n",
        "    for j in range(len(method_names)):\n",
        "        # Se a linha e a coluna corresponderem ao mesmo método, o nome do método é colocado na tabela\n",
        "        if i == j:\n",
        "            table.loc[method_names[i], method_names[j]] = method_names[i]\n",
        "        else:\n",
        "          if i > j:\n",
        "            # Matriz triangular superior, correspondente ao teste t pareado\n",
        "            pvalue = stats.ttest_rel(scores_list[i], scores_list[j]).pvalue\n",
        "            if pvalue < 0.05: # Valores que rejeitam a hipótese nula para um nível de significancia de 95%\n",
        "              table[method_names[i]][method_names[j]] = f'{pvalue:.6f}'\n",
        "            else:\n",
        "              table[method_names[i]][method_names[j]] = f'{pvalue:.4f}'\n",
        "          # Matriz triangular inferior, corresponde ao teste não paramétrico wilcoxon\n",
        "          else:\n",
        "            # Matriz triangular superior, correspondente ao teste t pareado\n",
        "            pvalue = stats.wilcoxon(scores_list[i], scores_list[j]).pvalue\n",
        "            if pvalue < 0.05: # Valores que rejeitam a hipótese nula para um nível de significancia de 95%\n",
        "              table[method_names[i]][method_names[j]] = f'{pvalue:.6f}'\n",
        "            else:\n",
        "              table[method_names[i]][method_names[j]] = f'{pvalue:.4f}'\n",
        "\n",
        "table"
      ]
    },
    {
      "attachments": {},
      "cell_type": "markdown",
      "id": "-WYAO6s-7MW6",
      "metadata": {
        "id": "-WYAO6s-7MW6"
      },
      "source": [
        "### BoxPlot"
      ]
    },
    {
      "cell_type": "code",
      "execution_count": 281,
      "id": "CPZtoBlu7Uwy",
      "metadata": {
        "colab": {
          "base_uri": "https://localhost:8080/",
          "height": 449
        },
        "id": "CPZtoBlu7Uwy",
        "outputId": "03573e53-fb78-4936-f019-0f8cd9cb7dfd"
      },
      "outputs": [
        {
          "data": {
            "image/png": "[encoded data removed]",
            "text/plain": [
              "<Figure size 640x480 with 1 Axes>"
            ]
          },
          "metadata": {},
          "output_type": "display_data"
        }
      ],
      "source": [
        "method_names = ['ZeroR', 'BG', 'AB', 'RF', 'HP']\n",
        "\n",
        "sns.boxplot(data=scores_list, palette=\"Set3\").set(xticklabels=method_names)\n",
        "plt.xlabel(\"Classificadores\")\n",
        "plt.ylabel(\"Scores\")\n",
        "\n",
        "plt.show()"
      ]
    }
  ],
  "metadata": {
    "colab": {
      "provenance": []
    },
    "kernelspec": {
      "display_name": "Python 3 (ipykernel)",
      "language": "python",
      "name": "python3"
    },
    "language_info": {
      "codemirror_mode": {
        "name": "ipython",
        "version": 3
      },
      "file_extension": ".py",
      "mimetype": "text/x-python",
      "name": "python",
      "nbconvert_exporter": "python",
      "pygments_lexer": "ipython3",
      "version": "3.11.3"
    }
  },
  "nbformat": 4,
  "nbformat_minor": 5
}
